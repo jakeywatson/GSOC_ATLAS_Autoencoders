{
 "cells": [
  {
   "cell_type": "markdown",
   "metadata": {},
   "source": [
    "In this notebook, we will train and run an autoencoder on some ATLAS data.   "
   ]
  },
  {
   "cell_type": "markdown",
   "metadata": {},
   "source": [
    "## Look into the dataset"
   ]
  },
  {
   "cell_type": "markdown",
   "metadata": {},
   "source": [
    "We take a csv dataset, and open into Pandas (after importing pandas).\n",
    "\n",
    "Each line in the csv corresponds to one event, which consists of variable amounts of particles. We select only the 'j' type particles, corresponding to jets."
   ]
  },
  {
   "cell_type": "code",
   "execution_count": 1,
   "metadata": {},
   "outputs": [],
   "source": [
    "import numpy as np\n",
    "import pandas as pd\n",
    "from sklearn.model_selection import train_test_split\n",
    "from sklearn.preprocessing import StandardScaler, PowerTransformer\n",
    "\n",
    "from pathlib import Path\n",
    "from collections  import OrderedDict\n",
    "import math\n",
    "\n",
    "data_path = Path('monojet_Zp2000.0_DM_50.0_chan3.csv')\n",
    "\n",
    "data = OrderedDict()\n",
    "with open(data_path, 'r') as f:\n",
    "        for line in f:            \n",
    "            split = line.strip().split(';')\n",
    "            first_five = ''.join(split[0:4])\n",
    "            objs = split[5:]\n",
    "            \n",
    "            jets = []\n",
    "            for obj in objs:\n",
    "                split_obj = obj.strip().split(',')                \n",
    "                if 'j' in split_obj:\n",
    "                    jets.append([float(i) for i in split_obj[1:]])\n",
    "                    \n",
    "            data[first_five] = jets"
   ]
  },
  {
   "cell_type": "markdown",
   "metadata": {},
   "source": [
    "The data is raw and unnormalized. Several methods of normalization are prepared below. The custom-normalization gives the most accurate results."
   ]
  },
  {
   "cell_type": "code",
   "execution_count": 2,
   "metadata": {},
   "outputs": [],
   "source": [
    "combined_jets = [jet for event in data.values() for jet in event]\n",
    "df = pd.DataFrame.from_records(combined_jets)\n",
    "df.columns = [\"E\",\"pt\",\"eta\",\"phi\"]\n",
    "\n",
    "standard_normalised = pd.DataFrame(StandardScaler().fit_transform(df))\n",
    "power_normalised = pd.DataFrame(PowerTransformer().fit_transform(df))\n",
    "\n",
    "def custom_normalize(df):\n",
    "    df['eta'] = df['eta'] / 5\n",
    "    df['phi'] = df['phi'] / 3\n",
    "    df['E'] = (np.log(df['E'] / 1000) - 3.2) / 5\n",
    "    df['pt'] = (np.log(df['pt'] / 1000) - 3.1) / 4.5\n",
    "    return df\n",
    "\n",
    "df = custom_normalize(df)"
   ]
  },
  {
   "cell_type": "markdown",
   "metadata": {},
   "source": [
    "Now we must separate the data into training and test sets, using a standard split of 30:70"
   ]
  },
  {
   "cell_type": "code",
   "execution_count": 3,
   "metadata": {},
   "outputs": [
    {
     "name": "stdout",
     "output_type": "stream",
     "text": [
      "Training sample:\n",
      "              E        pt       eta       phi\n",
      "8027   0.733551  0.272184 -0.646894 -0.106584\n",
      "4183   0.280379  0.304316 -0.101697 -0.644197\n",
      "4474   0.301549  0.344461  0.059338  0.144198\n",
      "6364   0.393818  0.458034  0.001112 -0.443497\n",
      "12517  0.478261  0.023757  0.615048 -0.186829\n",
      "\n",
      "\n",
      "Testing sample:\n",
      "              E        pt       eta       phi\n",
      "17353  0.605980  0.230955 -0.555930 -0.555513\n",
      "9537   0.307369  0.362107  0.009780  0.178948\n",
      "18898  0.704561  0.787430  0.079794 -0.065491\n",
      "5948   0.462074  0.283053 -0.360284  0.896603\n",
      "9679   0.654250  0.720213 -0.101701 -0.333793\n",
      "\n",
      "\n",
      "The number of entries in the training data: 15805\n",
      "The number of entries in the validation data: 6774\n"
     ]
    }
   ],
   "source": [
    "train, test = train_test_split(df, test_size=0.3)\n",
    "\n",
    "\n",
    "# To get an idea of the order of magnitude we are going to see in the plots we show the first elements \n",
    "# in the samples:\n",
    "print('Training sample:')\n",
    "print(train.head())\n",
    "\n",
    "print('\\n')\n",
    "\n",
    "print('Testing sample:')\n",
    "print(test.head())\n",
    "\n",
    "print('\\n')\n",
    "\n",
    "print('The number of entries in the training data:', len(train))\n",
    "print('The number of entries in the validation data:', len(test))"
   ]
  },
  {
   "cell_type": "markdown",
   "metadata": {},
   "source": [
    "Now we plot the data using the matplotlib library. The units reflect the normalization, but it's the shape that we care about. "
   ]
  },
  {
   "cell_type": "code",
   "execution_count": 4,
   "metadata": {
    "scrolled": true
   },
   "outputs": [
    {
     "data": {
      "image/png": "[encoded data removed]",
      "text/plain": [
       "<Figure size 432x288 with 1 Axes>"
      ]
     },
     "metadata": {
      "needs_background": "light"
     },
     "output_type": "display_data"
    },
    {
     "data": {
      "image/png": "[encoded data removed]",
      "text/plain": [
       "<Figure size 432x288 with 1 Axes>"
      ]
     },
     "metadata": {
      "needs_background": "light"
     },
     "output_type": "display_data"
    },
    {
     "data": {
      "image/png": "[encoded data removed]",
      "text/plain": [
       "<Figure size 432x288 with 1 Axes>"
      ]
     },
     "metadata": {
      "needs_background": "light"
     },
     "output_type": "display_data"
    },
    {
     "data": {
      "image/png": "[encoded data removed]",
      "text/plain": [
       "<Figure size 432x288 with 1 Axes>"
      ]
     },
     "metadata": {
      "needs_background": "light"
     },
     "output_type": "display_data"
    }
   ],
   "source": [
    "import matplotlib.pyplot as plt\n",
    "\n",
    "unit_list = ['[GeV]', '[GeV]', '[rad/3]', '[rad/3]']\n",
    "variable_list = [r'$E$', r'$p_T$', r'$\\eta$', r'$\\phi$']\n",
    "\n",
    "branches=[\"E\",\"pt\",\"eta\",\"phi\"]\n",
    "\n",
    "n_bins = 200\n",
    "\n",
    "for kk in range(0,4):\n",
    "    n_hist_data, bin_edges, _ = plt.hist(df[branches[kk]], color='gray', label='Input', alpha=1, bins=n_bins)\n",
    "    plt.xlabel(xlabel=variable_list[kk] + ' ' + unit_list[kk])\n",
    "    plt.ylabel('# of jets')\n",
    "    #plt.savefig(\"fourmomentum_\"+branches[kk],dpi=300)\n",
    "    plt.show()"
   ]
  },
  {
   "cell_type": "markdown",
   "metadata": {},
   "source": [
    "## Setting up the network"
   ]
  },
  {
   "cell_type": "markdown",
   "metadata": {},
   "source": [
    "### Preparing the data"
   ]
  },
  {
   "cell_type": "markdown",
   "metadata": {},
   "source": [
    "Adding the two datasets as TensorDatasets to PyTorch (also loading all other classes we'll need later)"
   ]
  },
  {
   "cell_type": "code",
   "execution_count": 5,
   "metadata": {},
   "outputs": [],
   "source": [
    "import torch\n",
    "import torch.nn as nn\n",
    "import torch.optim as optim\n",
    "import torch.utils.data\n",
    "from torch.autograd import Variable\n",
    "\n",
    "from torch.utils.data import TensorDataset\n",
    "from torch.utils.data import DataLoader\n",
    "\n",
    "from fastai import learner\n",
    "from fastai.data import core\n",
    "\n",
    "train_x = train\n",
    "test_x = test\n",
    "train_y = train_x  # y = x since we are building an autoencoder\n",
    "test_y = test_x\n",
    "\n",
    "# Constructs a tensor object of the data and wraps them in a TensorDataset object.\n",
    "train_ds = TensorDataset(torch.tensor(train_x.values, dtype=torch.float), torch.tensor(train_y.values, dtype=torch.float))\n",
    "valid_ds = TensorDataset(torch.tensor(test_x.values, dtype=torch.float), torch.tensor(test_y.values, dtype=torch.float))"
   ]
  },
  {
   "cell_type": "markdown",
   "metadata": {},
   "source": [
    "We now set things up to load the data, and we use a batch size that was optimized by previous students...note also that this is fastai v2, migration thanks to Jessica Lastow."
   ]
  },
  {
   "cell_type": "code",
   "execution_count": 6,
   "metadata": {},
   "outputs": [],
   "source": [
    "bs = 256\n",
    "\n",
    "# Converts the TensorDataset into a DataLoader object and combines into one DataLoaders object (a basic wrapper\n",
    "# around several DataLoader objects). \n",
    "train_dl = DataLoader(train_ds, batch_size=bs, shuffle=True)\n",
    "valid_dl = DataLoader(valid_ds, batch_size=bs * 2)\n",
    "dls = core.DataLoaders(train_dl, valid_dl)"
   ]
  },
  {
   "cell_type": "markdown",
   "metadata": {},
   "source": [
    "### Preparing the network"
   ]
  },
  {
   "cell_type": "markdown",
   "metadata": {},
   "source": [
    "Here we have two architectures for the autoencoder network. The first is a straightforward feed-forward with 4-200-100-50-3-50-100-200-4 layers and an ELU activation function.\n",
    "\n",
    "The second is the same but with batchnormalization layers added between each layer."
   ]
  },
  {
   "cell_type": "code",
   "execution_count": 7,
   "metadata": {},
   "outputs": [
    {
     "data": {
      "text/plain": [
       "AE_3D_200_ELU(\n",
       "  (en1): Linear(in_features=4, out_features=200, bias=True)\n",
       "  (en2): Linear(in_features=200, out_features=100, bias=True)\n",
       "  (en3): Linear(in_features=100, out_features=50, bias=True)\n",
       "  (en4): Linear(in_features=50, out_features=3, bias=True)\n",
       "  (de1): Linear(in_features=3, out_features=50, bias=True)\n",
       "  (de2): Linear(in_features=50, out_features=100, bias=True)\n",
       "  (de3): Linear(in_features=100, out_features=200, bias=True)\n",
       "  (de4): Linear(in_features=200, out_features=4, bias=True)\n",
       "  (activ): ELU(alpha=1.0)\n",
       ")"
      ]
     },
     "execution_count": 7,
     "metadata": {},
     "output_type": "execute_result"
    }
   ],
   "source": [
    "class AE_3D_200_ELU(nn.Module):\n",
    "    def __init__(self, n_features=4):\n",
    "        super(AE_3D_200_ELU, self).__init__()\n",
    "        self.en1 = nn.Linear(n_features, 200)\n",
    "        self.en2 = nn.Linear(200, 100)\n",
    "        self.en3 = nn.Linear(100, 50)\n",
    "        self.en4 = nn.Linear(50, 3)\n",
    "        self.de1 = nn.Linear(3, 50)\n",
    "        self.de2 = nn.Linear(50, 100)\n",
    "        self.de3 = nn.Linear(100, 200)\n",
    "        self.de4 = nn.Linear(200, n_features)\n",
    "        self.activ = nn.ELU()\n",
    "\n",
    "    def encode(self, x):\n",
    "        return self.en4(self.activ(self.en3(self.activ(self.en2(self.activ(self.en1(x)))))))\n",
    "\n",
    "    def decode(self, x):\n",
    "        return self.de4(self.activ(self.de3(self.activ(self.de2(self.activ(self.de1(self.activ(x))))))))\n",
    "\n",
    "    def forward(self, x):\n",
    "        z = self.encode(x)\n",
    "        return self.decode(z)\n",
    "\n",
    "    def describe(self):\n",
    "        return 'in-200-100-50-3-50-100-200-out'\n",
    "\n",
    "class AE_3D_200_ELU_BN(nn.Module):\n",
    "    def __init__(self, n_features=4):\n",
    "        super(AE_3D_200_ELU_BN, self).__init__()\n",
    "        \n",
    "        self.activ = nn.ELU()\n",
    "        \n",
    "        self.encoder = nn.Sequential(\n",
    "            nn.Linear(n_features, 200),\n",
    "            nn.BatchNorm1d(200),\n",
    "            self.activ,\n",
    "            nn.Linear(200, 100),\n",
    "            nn.BatchNorm1d(100),\n",
    "            self.activ,\n",
    "            nn.Linear(100, 50),\n",
    "            nn.BatchNorm1d(50),\n",
    "            self.activ,\n",
    "            nn.Linear(50, 3)   \n",
    "        )\n",
    "        \n",
    "        self.decoder = nn.Sequential(\n",
    "            nn.Linear(3, 50),\n",
    "            nn.BatchNorm1d(50),\n",
    "            self.activ,\n",
    "            nn.Linear(50, 100),\n",
    "            nn.BatchNorm1d(100),\n",
    "            self.activ,\n",
    "            nn.Linear(100, 200),\n",
    "            nn.BatchNorm1d(200),\n",
    "            self.activ,\n",
    "            nn.Linear(200, n_features)\n",
    "        )\n",
    "\n",
    "    def encode(self, x):\n",
    "        return self.encoder(x)\n",
    "\n",
    "    def decode(self, x):\n",
    "        return self.decoder(x)\n",
    "    \n",
    "    def forward(self, x):\n",
    "        z = self.encode(x)\n",
    "        return self.decode(z)\n",
    "\n",
    "    def describe(self):\n",
    "        return 'in-200-100-50-3-50-100-200-out'\n",
    "\n",
    "\n",
    "model = AE_3D_200_ELU()\n",
    "model.to('cpu')"
   ]
  },
  {
   "cell_type": "markdown",
   "metadata": {},
   "source": [
    "We now have to pick a loss function - MSE loss is appropriate for a compression autoencoder since it reflects the [(input-output)/input] physical quantity that we want to minimize. "
   ]
  },
  {
   "cell_type": "code",
   "execution_count": 8,
   "metadata": {},
   "outputs": [],
   "source": [
    "from fastai.metrics import mse\n",
    "\n",
    "# calculate difference between original and recreated data\n",
    "loss_func = nn.MSELoss()\n",
    "\n",
    "# Weight decay - controls bias/variance\n",
    "wd = 1E-6\n",
    "\n",
    "recorder = learner.Recorder()\n",
    "learn = learner.Learner(dls,\n",
    "                        model=model,\n",
    "                        wd=wd,\n",
    "                        wd_bn_bias = False,\n",
    "                        loss_func=loss_func,\n",
    "                        cbs=recorder)"
   ]
  },
  {
   "cell_type": "markdown",
   "metadata": {},
   "source": [
    "## Training the network"
   ]
  },
  {
   "cell_type": "markdown",
   "metadata": {},
   "source": [
    "First, we want to find the best learning rate. The learning rate is a hyper-parameter that sets how much the weights of the network will change each step with respect to the loss gradient.\n",
    "\n",
    "Then we plot the loss versus the learning rates. We're interested in finding a good order of magnitude of learning rate, so we plot with a log scale.\n",
    "\n",
    "A good value for the learning rates is then either:\n",
    "- one tenth of the minimum before the divergence\n",
    "- when the slope is the steepest"
   ]
  },
  {
   "cell_type": "code",
   "execution_count": 9,
   "metadata": {
    "scrolled": false
   },
   "outputs": [
    {
     "name": "stdout",
     "output_type": "stream",
     "text": [
      "Learning rate with the minimum loss: 0.002754228748381138\n",
      "Learning rate with the steepest gradient: 0.009120108559727669\n"
     ]
    },
    {
     "data": {
      "image/png": "[encoded data removed]",
      "text/plain": [
       "<Figure size 432x288 with 1 Axes>"
      ]
     },
     "metadata": {
      "needs_background": "light"
     },
     "output_type": "display_data"
    }
   ],
   "source": [
    "from fastai.callback import schedule\n",
    "\n",
    "lr_min, lr_steep = learn.lr_find()\n",
    "\n",
    "print('Learning rate with the minimum loss:', lr_min)\n",
    "print('Learning rate with the steepest gradient:', lr_steep)"
   ]
  },
  {
   "cell_type": "markdown",
   "metadata": {},
   "source": [
    "Now we want to run the training!\n",
    "\n",
    "User-chosen variables:\n",
    "- n_epoch: The number of epochs, i.e how many times the to run through all of the training data once (i.e the 1266046 entries, see cell 2)\n",
    "- lr: The learning rate. Either choose lr_min, lr_steep from above or set your own.\n"
   ]
  },
  {
   "cell_type": "code",
   "execution_count": 10,
   "metadata": {
    "scrolled": true
   },
   "outputs": [
    {
     "name": "stdout",
     "output_type": "stream",
     "text": [
      "[0, 0.1211530789732933, 0.06652872264385223, '00:01']\n",
      "[0, 0.1211530789732933, 0.06652872264385223, '00:01']\n",
      "[1, 0.06424615532159805, 0.03641482815146446, '00:01']\n",
      "[1, 0.06424615532159805, 0.03641482815146446, '00:01']\n",
      "[2, 0.03526889905333519, 0.016370778903365135, '00:01']\n",
      "[2, 0.03526889905333519, 0.016370778903365135, '00:01']\n",
      "[3, 0.01420447789132595, 0.00435732351616025, '00:01']\n",
      "[3, 0.01420447789132595, 0.00435732351616025, '00:01']\n",
      "[4, 0.006598925217986107, 0.003191258991137147, '00:01']\n",
      "[4, 0.006598925217986107, 0.003191258991137147, '00:01']\n",
      "[5, 0.003687644610181451, 0.0018489762442186475, '00:01']\n",
      "[5, 0.003687644610181451, 0.0018489762442186475, '00:01']\n",
      "[6, 0.0015073252143338323, 0.00029570842161774635, '00:01']\n",
      "[6, 0.0015073252143338323, 0.00029570842161774635, '00:01']\n",
      "[7, 0.0005821881932206452, 0.00018987516523338854, '00:01']\n",
      "[7, 0.0005821881932206452, 0.00018987516523338854, '00:01']\n",
      "[8, 0.0003553769493009895, 0.00018525980703998357, '00:01']\n",
      "[8, 0.0003553769493009895, 0.00018525980703998357, '00:01']\n",
      "[9, 0.0002415018534520641, 0.00044936538324691355, '00:01']\n",
      "[9, 0.0002415018534520641, 0.00044936538324691355, '00:01']\n",
      "[10, 0.00021254036983009428, 0.00018873950466513634, '00:01']\n",
      "[10, 0.00021254036983009428, 0.00018873950466513634, '00:01']\n",
      "[11, 0.00023282336769625545, 0.00020079256501048803, '00:01']\n",
      "[11, 0.00023282336769625545, 0.00020079256501048803, '00:01']\n",
      "[12, 0.00040509089012630284, 0.0002933767973445356, '00:01']\n",
      "[12, 0.00040509089012630284, 0.0002933767973445356, '00:01']\n",
      "[13, 0.0003232363087590784, 0.00013128342106938362, '00:01']\n",
      "[13, 0.0003232363087590784, 0.00013128342106938362, '00:01']\n",
      "[14, 0.0004985373234376311, 0.0009813676588237286, '00:01']\n",
      "[14, 0.0004985373234376311, 0.0009813676588237286, '00:01']\n",
      "[15, 0.0005043145501986146, 0.00020917272195219994, '00:01']\n",
      "[15, 0.0005043145501986146, 0.00020917272195219994, '00:01']\n",
      "[16, 0.0006790775805711746, 0.0003943116753362119, '00:01']\n",
      "[16, 0.0006790775805711746, 0.0003943116753362119, '00:01']\n",
      "[17, 0.00047586727305315435, 0.00018646905664354563, '00:01']\n",
      "[17, 0.00047586727305315435, 0.00018646905664354563, '00:01']\n",
      "[18, 0.00041982813854701817, 0.0003882666351273656, '00:01']\n",
      "[18, 0.00041982813854701817, 0.0003882666351273656, '00:01']\n",
      "[19, 0.0007630113395862281, 0.0005159908323548734, '00:01']\n",
      "[19, 0.0007630113395862281, 0.0005159908323548734, '00:01']\n",
      "[20, 0.0006031929515302181, 0.00011767775868065655, '00:01']\n",
      "[20, 0.0006031929515302181, 0.00011767775868065655, '00:01']\n",
      "[21, 0.0004239815752953291, 9.411874634679407e-05, '00:01']\n",
      "[21, 0.0004239815752953291, 9.411874634679407e-05, '00:01']\n",
      "[22, 0.000556575192604214, 0.00020919161033816636, '00:01']\n",
      "[22, 0.000556575192604214, 0.00020919161033816636, '00:01']\n",
      "[23, 0.00040532121784053743, 0.00011922206613235176, '00:01']\n",
      "[23, 0.00040532121784053743, 0.00011922206613235176, '00:01']\n",
      "[24, 0.00038633905933238566, 0.00035732422838918865, '00:01']\n",
      "[24, 0.00038633905933238566, 0.00035732422838918865, '00:01']\n",
      "[25, 0.00040543079376220703, 0.000311037409119308, '00:01']\n",
      "[25, 0.00040543079376220703, 0.000311037409119308, '00:01']\n",
      "[26, 0.0003919603186659515, 0.0013183944392949343, '00:01']\n",
      "[26, 0.0003919603186659515, 0.0013183944392949343, '00:01']\n",
      "[27, 0.00031029508681967854, 0.0002764302189461887, '00:01']\n",
      "[27, 0.00031029508681967854, 0.0002764302189461887, '00:01']\n",
      "[28, 0.00034151694853790104, 0.0005591274821199477, '00:01']\n",
      "[28, 0.00034151694853790104, 0.0005591274821199477, '00:01']\n",
      "[29, 0.0003002073208335787, 6.844364543212578e-05, '00:01']\n",
      "[29, 0.0003002073208335787, 6.844364543212578e-05, '00:01']\n",
      "[30, 0.00028791205841116607, 8.935393270803615e-05, '00:01']\n",
      "[30, 0.00028791205841116607, 8.935393270803615e-05, '00:01']\n",
      "[31, 0.00027703531668521464, 0.0011228449875488877, '00:01']\n",
      "[31, 0.00027703531668521464, 0.0011228449875488877, '00:01']\n",
      "[32, 0.00020124911679886281, 0.00010171427129535004, '00:01']\n",
      "[32, 0.00020124911679886281, 0.00010171427129535004, '00:01']\n",
      "[33, 0.00029226456535980105, 0.000294413446681574, '00:01']\n",
      "[33, 0.00029226456535980105, 0.000294413446681574, '00:01']\n",
      "[34, 0.00027261656941846013, 0.00045033960486762226, '00:01']\n",
      "[34, 0.00027261656941846013, 0.00045033960486762226, '00:01']\n",
      "[35, 0.0001816281583160162, 0.0001591225154697895, '00:01']\n",
      "[35, 0.0001816281583160162, 0.0001591225154697895, '00:01']\n",
      "[36, 0.00016748539928812534, 0.00012491270899772644, '00:01']\n",
      "[36, 0.00016748539928812534, 0.00012491270899772644, '00:01']\n",
      "[37, 0.00017145095625892282, 0.000484498857986182, '00:01']\n",
      "[37, 0.00017145095625892282, 0.000484498857986182, '00:01']\n",
      "[38, 0.00013635835784953088, 0.00020519719691947103, '00:01']\n",
      "[38, 0.00013635835784953088, 0.00020519719691947103, '00:01']\n",
      "[39, 0.00013581440725829452, 9.72757552517578e-05, '00:01']\n",
      "[39, 0.00013581440725829452, 9.72757552517578e-05, '00:01']\n",
      "[40, 0.00013563563697971404, 5.8494308177614585e-05, '00:01']\n",
      "[40, 0.00013563563697971404, 5.8494308177614585e-05, '00:01']\n",
      "[41, 0.00014360054046846926, 6.415570533135906e-05, '00:01']\n",
      "[41, 0.00014360054046846926, 6.415570533135906e-05, '00:01']\n",
      "[42, 9.138879977399483e-05, 0.00010815347923198715, '00:01']\n",
      "[42, 9.138879977399483e-05, 0.00010815347923198715, '00:01']\n",
      "[43, 0.00011722638737410307, 7.56311128498055e-05, '00:01']\n",
      "[43, 0.00011722638737410307, 7.56311128498055e-05, '00:01']\n",
      "[44, 9.469127689953893e-05, 0.00014501376426778734, '00:01']\n",
      "[44, 9.469127689953893e-05, 0.00014501376426778734, '00:01']\n",
      "[45, 9.899296128423885e-05, 0.00010332186502637342, '00:01']\n",
      "[45, 9.899296128423885e-05, 0.00010332186502637342, '00:01']\n",
      "[46, 7.922520308056846e-05, 8.31842771731317e-05, '00:01']\n",
      "[46, 7.922520308056846e-05, 8.31842771731317e-05, '00:01']\n",
      "[47, 8.331979915965348e-05, 5.308350591803901e-05, '00:01']\n",
      "[47, 8.331979915965348e-05, 5.308350591803901e-05, '00:01']\n",
      "[48, 7.091544102877378e-05, 3.096776345046237e-05, '00:01']\n",
      "[48, 7.091544102877378e-05, 3.096776345046237e-05, '00:01']\n",
      "[49, 5.211917232372798e-05, 0.00011043285485357046, '00:01']\n",
      "[49, 5.211917232372798e-05, 0.00011043285485357046, '00:01']\n",
      "[50, 6.816114910179749e-05, 3.639812712208368e-05, '00:01']\n",
      "[50, 6.816114910179749e-05, 3.639812712208368e-05, '00:01']\n",
      "[51, 5.426601637736894e-05, 3.7341873394325376e-05, '00:01']\n",
      "[51, 5.426601637736894e-05, 3.7341873394325376e-05, '00:01']\n",
      "[52, 4.818867091671564e-05, 2.6159430490224622e-05, '00:01']\n",
      "[52, 4.818867091671564e-05, 2.6159430490224622e-05, '00:01']\n",
      "[53, 4.249499033903703e-05, 3.9103779272409156e-05, '00:01']\n",
      "[53, 4.249499033903703e-05, 3.9103779272409156e-05, '00:01']\n",
      "[54, 4.2996169213438407e-05, 7.745553739368916e-05, '00:01']\n",
      "[54, 4.2996169213438407e-05, 7.745553739368916e-05, '00:01']\n",
      "[55, 3.632779043982737e-05, 3.671894592116587e-05, '00:01']\n",
      "[55, 3.632779043982737e-05, 3.671894592116587e-05, '00:01']\n",
      "[56, 3.0195591534720734e-05, 2.797674824250862e-05, '00:01']\n",
      "[56, 3.0195591534720734e-05, 2.797674824250862e-05, '00:01']\n",
      "[57, 3.242629099986516e-05, 1.7996144379139878e-05, '00:01']\n",
      "[57, 3.242629099986516e-05, 1.7996144379139878e-05, '00:01']\n",
      "[58, 2.1161476979614235e-05, 2.481767296558246e-05, '00:01']\n",
      "[58, 2.1161476979614235e-05, 2.481767296558246e-05, '00:01']\n",
      "[59, 2.482779382262379e-05, 2.6179515771218576e-05, '00:01']\n",
      "[59, 2.482779382262379e-05, 2.6179515771218576e-05, '00:01']\n",
      "[60, 2.2091682694735937e-05, 1.67680063896114e-05, '00:01']\n",
      "[60, 2.2091682694735937e-05, 1.67680063896114e-05, '00:01']\n",
      "[61, 1.7427553757443093e-05, 8.560886271880008e-06, '00:01']\n",
      "[61, 1.7427553757443093e-05, 8.560886271880008e-06, '00:01']\n",
      "[62, 1.6697929822839797e-05, 1.1516401173139457e-05, '00:01']\n",
      "[62, 1.6697929822839797e-05, 1.1516401173139457e-05, '00:01']\n",
      "[63, 1.5711762898718007e-05, 1.3095113899908029e-05, '00:01']\n",
      "[63, 1.5711762898718007e-05, 1.3095113899908029e-05, '00:01']\n",
      "[64, 1.2693559256149456e-05, 6.7323253460926935e-06, '00:01']\n",
      "[64, 1.2693559256149456e-05, 6.7323253460926935e-06, '00:01']\n",
      "[65, 9.281071470468305e-06, 7.600660410389537e-06, '00:01']\n",
      "[65, 9.281071470468305e-06, 7.600660410389537e-06, '00:01']\n",
      "[66, 9.846923603618052e-06, 8.136005817505065e-06, '00:01']\n",
      "[66, 9.846923603618052e-06, 8.136005817505065e-06, '00:01']\n",
      "[67, 8.371616786462255e-06, 9.656992006057408e-06, '00:01']\n",
      "[67, 8.371616786462255e-06, 9.656992006057408e-06, '00:01']\n"
     ]
    },
    {
     "name": "stdout",
     "output_type": "stream",
     "text": [
      "[68, 8.978259756986517e-06, 5.829017027281225e-06, '00:01']\n",
      "[68, 8.978259756986517e-06, 5.829017027281225e-06, '00:01']\n",
      "[69, 6.876202405692311e-06, 4.05049831897486e-06, '00:01']\n",
      "[69, 6.876202405692311e-06, 4.05049831897486e-06, '00:01']\n",
      "[70, 6.138302069302881e-06, 5.133555987413274e-06, '00:01']\n",
      "[70, 6.138302069302881e-06, 5.133555987413274e-06, '00:01']\n",
      "[71, 4.939339305565227e-06, 3.79999232791306e-06, '00:01']\n",
      "[71, 4.939339305565227e-06, 3.79999232791306e-06, '00:01']\n",
      "[72, 4.595380687533179e-06, 4.966271262674127e-06, '00:01']\n",
      "[72, 4.595380687533179e-06, 4.966271262674127e-06, '00:01']\n",
      "[73, 4.1541538848832715e-06, 5.991768830426736e-06, '00:01']\n",
      "[73, 4.1541538848832715e-06, 5.991768830426736e-06, '00:01']\n",
      "[74, 3.8010987282177666e-06, 4.144804279349046e-06, '00:01']\n",
      "[74, 3.8010987282177666e-06, 4.144804279349046e-06, '00:01']\n",
      "[75, 3.337457428642665e-06, 3.2181726510316366e-06, '00:01']\n",
      "[75, 3.337457428642665e-06, 3.2181726510316366e-06, '00:01']\n",
      "[76, 3.3281939977314323e-06, 3.104359848293825e-06, '00:01']\n",
      "[76, 3.3281939977314323e-06, 3.104359848293825e-06, '00:01']\n",
      "[77, 2.7123996915179305e-06, 2.751974079728825e-06, '00:01']\n",
      "[77, 2.7123996915179305e-06, 2.751974079728825e-06, '00:01']\n",
      "[78, 2.833700136761763e-06, 3.6546025512507185e-06, '00:01']\n",
      "[78, 2.833700136761763e-06, 3.6546025512507185e-06, '00:01']\n",
      "[79, 2.7396317818784155e-06, 2.383550281592761e-06, '00:01']\n",
      "[79, 2.7396317818784155e-06, 2.383550281592761e-06, '00:01']\n",
      "[80, 2.646034317876911e-06, 2.614499862829689e-06, '00:01']\n",
      "[80, 2.646034317876911e-06, 2.614499862829689e-06, '00:01']\n",
      "[81, 2.485456661815988e-06, 2.401128313067602e-06, '00:01']\n",
      "[81, 2.485456661815988e-06, 2.401128313067602e-06, '00:01']\n",
      "[82, 2.248028522444656e-06, 2.1675971311196918e-06, '00:01']\n",
      "[82, 2.248028522444656e-06, 2.1675971311196918e-06, '00:01']\n",
      "[83, 2.0967249838577118e-06, 1.9695701212185668e-06, '00:01']\n",
      "[83, 2.0967249838577118e-06, 1.9695701212185668e-06, '00:01']\n",
      "[84, 1.943038341778447e-06, 2.008019464483368e-06, '00:01']\n",
      "[84, 1.943038341778447e-06, 2.008019464483368e-06, '00:01']\n",
      "[85, 1.8951529909827514e-06, 1.8372445538261672e-06, '00:01']\n",
      "[85, 1.8951529909827514e-06, 1.8372445538261672e-06, '00:01']\n",
      "[86, 1.8240685903947451e-06, 1.8599912436911836e-06, '00:01']\n",
      "[86, 1.8240685903947451e-06, 1.8599912436911836e-06, '00:01']\n",
      "[87, 1.787840346878511e-06, 1.82790051894699e-06, '00:01']\n",
      "[87, 1.787840346878511e-06, 1.82790051894699e-06, '00:01']\n",
      "[88, 1.7723424434734625e-06, 1.7101127696150797e-06, '00:01']\n",
      "[88, 1.7723424434734625e-06, 1.7101127696150797e-06, '00:01']\n",
      "[89, 1.7565730558999348e-06, 1.8405739865556825e-06, '00:01']\n",
      "[89, 1.7565730558999348e-06, 1.8405739865556825e-06, '00:01']\n",
      "[90, 1.7198017303599045e-06, 1.7563917253937689e-06, '00:01']\n",
      "[90, 1.7198017303599045e-06, 1.7563917253937689e-06, '00:01']\n",
      "[91, 1.6400620097556384e-06, 1.6703534129192121e-06, '00:01']\n",
      "[91, 1.6400620097556384e-06, 1.6703534129192121e-06, '00:01']\n",
      "[92, 1.5930324934743112e-06, 1.6542180674150586e-06, '00:01']\n",
      "[92, 1.5930324934743112e-06, 1.6542180674150586e-06, '00:01']\n",
      "[93, 1.581923811500019e-06, 1.6391250028391369e-06, '00:01']\n",
      "[93, 1.581923811500019e-06, 1.6391250028391369e-06, '00:01']\n",
      "[94, 1.5704549696238246e-06, 1.668508389229828e-06, '00:01']\n",
      "[94, 1.5704549696238246e-06, 1.668508389229828e-06, '00:01']\n",
      "[95, 1.5577659269183641e-06, 1.6266850479951245e-06, '00:01']\n",
      "[95, 1.5577659269183641e-06, 1.6266850479951245e-06, '00:01']\n",
      "[96, 1.537160301268159e-06, 1.6022845557017718e-06, '00:01']\n",
      "[96, 1.537160301268159e-06, 1.6022845557017718e-06, '00:01']\n",
      "[97, 1.5304506177926669e-06, 1.5986101971066091e-06, '00:01']\n",
      "[97, 1.5304506177926669e-06, 1.5986101971066091e-06, '00:01']\n",
      "[98, 1.5232335499604233e-06, 1.592592298038653e-06, '00:01']\n",
      "[98, 1.5232335499604233e-06, 1.592592298038653e-06, '00:01']\n",
      "[99, 1.526735104562249e-06, 1.5920386431389488e-06, '00:01']\n",
      "[99, 1.526735104562249e-06, 1.5920386431389488e-06, '00:01']\n",
      "Training took 123.5080564 seconds\n"
     ]
    }
   ],
   "source": [
    "import time\n",
    "\n",
    "start = time.perf_counter() # Starts timer\n",
    "learn.fit_one_cycle(n_epoch=100, lr_max=lr_min)\n",
    "end = time.perf_counter() # Ends timer\n",
    "delta_t = end - start\n",
    "print('Training took', delta_t, 'seconds')"
   ]
  },
  {
   "cell_type": "markdown",
   "metadata": {},
   "source": [
    "Then we plot the loss as a function of batches and epochs to check if we reach a plateau."
   ]
  },
  {
   "cell_type": "code",
   "execution_count": 11,
   "metadata": {
    "scrolled": true
   },
   "outputs": [
    {
     "data": {
      "image/png": "[encoded data removed]",
      "text/plain": [
       "<Figure size 432x288 with 1 Axes>"
      ]
     },
     "metadata": {
      "needs_background": "light"
     },
     "output_type": "display_data"
    }
   ],
   "source": [
    "recorder.plot_loss()"
   ]
  },
  {
   "cell_type": "markdown",
   "metadata": {},
   "source": [
    "The best value for the MSE on the validation set is ~1.6e-6, given by the ELU network without BN, and custom scaling."
   ]
  },
  {
   "cell_type": "code",
   "execution_count": 12,
   "metadata": {
    "scrolled": false
   },
   "outputs": [
    {
     "data": {
      "text/plain": [
       "(#1) [1.5920386431389488e-06]"
      ]
     },
     "execution_count": 12,
     "metadata": {},
     "output_type": "execute_result"
    }
   ],
   "source": [
    "learn.validate()"
   ]
  },
  {
   "cell_type": "markdown",
   "metadata": {},
   "source": [
    "Let's plot all of this, with ratios (thanks to code by Erik Wallin)"
   ]
  },
  {
   "cell_type": "markdown",
   "metadata": {},
   "source": [
    "## Plotting the outputs of the network"
   ]
  },
  {
   "cell_type": "markdown",
   "metadata": {},
   "source": [
    "Lazy-save of our output files (they'll also be on screen)"
   ]
  },
  {
   "cell_type": "code",
   "execution_count": 13,
   "metadata": {},
   "outputs": [],
   "source": [
    "import os\n",
    "save_dir = \"plotOutput\"\n",
    "if not os.path.exists(save_dir):\n",
    "    os.makedirs(save_dir)"
   ]
  },
  {
   "cell_type": "markdown",
   "metadata": {},
   "source": [
    "A function in case we want to un-normalize and get back to physical quantities..."
   ]
  },
  {
   "cell_type": "code",
   "execution_count": 14,
   "metadata": {},
   "outputs": [],
   "source": [
    "def custom_unnormalize(df):\n",
    "    df['eta'] = df['eta'] * 5\n",
    "    df['phi'] = df['phi'] * 3\n",
    "    df['E'] = ((10**(df['E'])) + 3.2) * 5\n",
    "    df['pt'] = ((10**(df['pt'])) + 3.1) * 4.5\n",
    "    return df\n"
   ]
  },
  {
   "cell_type": "markdown",
   "metadata": {},
   "source": [
    "Make the histograms from the dataset..."
   ]
  },
  {
   "cell_type": "code",
   "execution_count": 15,
   "metadata": {
    "scrolled": true
   },
   "outputs": [
    {
     "data": {
      "image/png": "[encoded data removed]",
      "text/plain": [
       "<Figure size 432x288 with 1 Axes>"
      ]
     },
     "metadata": {
      "needs_background": "light"
     },
     "output_type": "display_data"
    },
    {
     "data": {
      "image/png": "[encoded data removed]",
      "text/plain": [
       "<Figure size 432x288 with 1 Axes>"
      ]
     },
     "metadata": {
      "needs_background": "light"
     },
     "output_type": "display_data"
    },
    {
     "data": {
      "image/png": "[encoded data removed]",
      "text/plain": [
       "<Figure size 432x288 with 1 Axes>"
      ]
     },
     "metadata": {
      "needs_background": "light"
     },
     "output_type": "display_data"
    },
    {
     "data": {
      "image/png": "[encoded data removed]",
      "text/plain": [
       "<Figure size 432x288 with 1 Axes>"
      ]
     },
     "metadata": {
      "needs_background": "light"
     },
     "output_type": "display_data"
    }
   ],
   "source": [
    "import numpy as np\n",
    "\n",
    "plt.close('all')\n",
    "unit_list = ['[GeV]', '[rad/3]', '[rad/3]', '[GeV]']\n",
    "variable_list = [ r'$E$', r'$p_T$', r'$\\eta$', r'$\\phi$',]\n",
    "line_style = ['--', '-']\n",
    "colors = ['orange', 'c']\n",
    "markers = ['*', 's']\n",
    "\n",
    "model.to('cpu')\n",
    "\n",
    "save = False # Option to save figure\n",
    "\n",
    "# Histograms\n",
    "idxs = (0, 1000)  # Choose events to compare\n",
    "data = torch.tensor(test[idxs[0]:idxs[1]].values, dtype=torch.float)\n",
    "pred = model(data)\n",
    "pred = pred.detach().numpy()\n",
    "data = data.detach().numpy()\n",
    "\n",
    "data_df = pd.DataFrame(data, columns=branches)\n",
    "pred_df = pd.DataFrame(pred, columns=branches)\n",
    "\n",
    "unnormalized_data_df = custom_unnormalize(data_df)\n",
    "unnormalized_pred_df = custom_unnormalize(pred_df) \n",
    "    \n",
    "alph = 0.8\n",
    "n_bins = 200\n",
    "for kk in range(0, 4):\n",
    "    plt.figure()\n",
    "    n_hist_data, bin_edges, _ = plt.hist(unnormalized_data_df[branches[kk]], color=colors[1], label='Input', alpha=1, bins=n_bins)\n",
    "    n_hist_pred, _, _ = plt.hist(unnormalized_pred_df[branches[kk]], color=colors[0], label='Output', alpha=alph, bins=bin_edges)\n",
    "    plt.suptitle(test.columns[kk])\n",
    "    plt.xlabel(test.columns[kk])\n",
    "    plt.ylabel('Number of events')\n",
    "    plt.yscale('log')\n",
    "    if save:\n",
    "        plt.savefig(os.path.join(save_dir,test.columns[kk]+'.png'))\n",
    "    plt.legend()"
   ]
  },
  {
   "cell_type": "code",
   "execution_count": 16,
   "metadata": {},
   "outputs": [
    {
     "name": "stdout",
     "output_type": "stream",
     "text": [
      "[0.0, 0.0, 0.0, 0.25, 0.0, -0.14285714285714285, 0.0, 0.0, 0.0, 0.0, 0.0, 0.0, 0.0, -0.3333333333333333, 0.14285714285714285, 0.0, 0.0, 0.0, -0.2, 0.25, 0.0, 0.16666666666666666, 0.0, -0.1111111111111111, 0.0, 0.0, 0.0, 0.0, 0.0, 0.0, 0.0, 0.0, 0.5, 0.0, -0.16666666666666666, 0.0, 0.0, 1.0, 0.0, 0.0, 0.0, 0.0, -0.3333333333333333, 0.0, 0.3333333333333333, 0.0, -0.2857142857142857, 0.3333333333333333, 0.1111111111111111, -0.3333333333333333, 0.0, 0.0, 0.0, -0.3333333333333333, 0.25, -0.16666666666666666, 0.5, 0.0, 0.0, 0.0, -0.14285714285714285, 0.2, -0.6, 0.3333333333333333, 0.2, 0.0, -0.16666666666666666, 0.16666666666666666, 0.0, 0.0, 0.2, -0.16666666666666666, 0.0, -0.2, 0.5, 0.0, 0.0, 0.0, 0.0, 0.0, 0.16666666666666666, -0.1, 0.0, 0.16666666666666666, -0.3333333333333333, 0.2, 0.0, 0.2, -0.09090909090909091, 0.3333333333333333, -0.14285714285714285, 0.0, 0.25, -0.2222222222222222, 0.25, 0.0, 0.0, 0.0, 0.0, 0.0, 0.5, -0.14285714285714285, 0.0, 0.125, -0.2, 0.0, 0.0, 0.0, 0.0, 0.0, 0.0, 0.0, 0.0, -0.25, 0.09090909090909091, 0.0, 0.0, 0.0, 0.0, 0.0, 0.0, 1.0, -0.25, 0.0, 0.0, 0.0, 0.0, 0.0, -0.3333333333333333, 0.75, -0.14285714285714285, 0.0, -0.2, 0.16666666666666666, 0.0, 0.0, 0.0, -0.16666666666666666, 0.25, 0.0, 0.0, -0.2, 0.3333333333333333, 0.0, 0.0, 0.0, 0.0, 0.0, 0.0, -0.2, 0.16666666666666666, 0.0, 0.0, 0.0, 0.0, 0.0, 0.0, -0.2, 0.125, 0.0, 0.0, 0.0, 0.0, -0.125, 0.5, -0.2, 0.0, 0.0, 0.0, 0.0, 0.09090909090909091, 0.16666666666666666, -0.5, 0.0, 0.0, 0.16666666666666666, -0.2, 0.0, 0.3333333333333333, -0.3333333333333333, 0.3333333333333333, -0.14285714285714285, 0.14285714285714285, 0.0, 0.0, -0.2, 0.5, -0.125, 0.25, -0.2, 0.5, -0.125, -0.5, 0.2, 1.0, -0.16666666666666666, 0.0, 0.0, 0.0, 0.0]\n"
     ]
    }
   ],
   "source": [
    "def getRatio(bin1,bin2):\n",
    "    bins = []\n",
    "    for b1,b2 in zip(bin1,bin2):\n",
    "        if b1==0 and b2==0:\n",
    "            bins.append(0.)\n",
    "        elif b2==0:\n",
    "            bins.append(None)\n",
    "        else:\n",
    "            bins.append((float(b2)-float(b1))/b1)\n",
    "    return bins   \n",
    "\n",
    "rat = getRatio(n_hist_data,n_hist_pred)\n",
    "print(rat)"
   ]
  },
  {
   "cell_type": "code",
   "execution_count": null,
   "metadata": {},
   "outputs": [],
   "source": []
  }
 ],
 "metadata": {
  "kernelspec": {
   "display_name": "Python 3",
   "language": "python",
   "name": "python3"
  },
  "language_info": {
   "codemirror_mode": {
    "name": "ipython",
    "version": 3
   },
   "file_extension": ".py",
   "mimetype": "text/x-python",
   "name": "python",
   "nbconvert_exporter": "python",
   "pygments_lexer": "ipython3",
   "version": "3.8.3"
  }
 },
 "nbformat": 4,
 "nbformat_minor": 4
}

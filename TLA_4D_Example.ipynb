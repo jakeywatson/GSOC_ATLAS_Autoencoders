{
 "cells": [
  {
   "cell_type": "markdown",
   "metadata": {},
   "source": [
    "In this notebook, we will run a ready-made network starting from some ATLAS data, which is already normalized. There is also an alternative to train the network from scratch.  "
   ]
  },
  {
   "cell_type": "markdown",
   "metadata": {},
   "source": [
    "## Look into the dataset"
   ]
  },
  {
   "cell_type": "markdown",
   "metadata": {},
   "source": [
    "First we need to make sure that Python 3.8 is used in the notebook. It is required in order to open this certain .pkl-file. "
   ]
  },
  {
   "cell_type": "code",
   "execution_count": 4,
   "metadata": {},
   "outputs": [
    {
     "data": {
      "text/plain": [
       "'3.8.3 (tags/v3.8.3:6f8c832, May 13 2020, 22:37:02) [MSC v.1924 64 bit (AMD64)]'"
      ]
     },
     "execution_count": 4,
     "metadata": {},
     "output_type": "execute_result"
    }
   ],
   "source": [
    "import sys\n",
    "sys.version"
   ]
  },
  {
   "cell_type": "markdown",
   "metadata": {},
   "source": [
    "We take a pickle dataset, and open into Pandas (after importing pandas). Note that you have to change the paths to the directory where your processed files are. "
   ]
  },
  {
   "cell_type": "code",
   "execution_count": 53,
   "metadata": {},
   "outputs": [
    {
     "name": "stdout",
     "output_type": "stream",
     "text": [
      "Training sample:\n",
      "               E        pt       eta       phi\n",
      "22402   654824.0  652820.0 -0.049131 -0.266934\n",
      "13244   117033.0   82004.2 -0.879725  3.122690\n",
      "3016    965929.0  630348.0 -0.974154  1.199730\n",
      "2788   1027840.0  485898.0 -1.380990  1.654960\n",
      "6819     81228.6   24426.2 -1.869130 -1.916930\n",
      "\n",
      "\n",
      "Testing sample:\n",
      "              E        pt       eta      phi\n",
      "21471  768840.0  436852.0 -1.164990 -3.07673\n",
      "9493   300802.0  264370.0 -0.509090 -2.57014\n",
      "20146  787673.0  280942.0 -1.684800  2.59532\n",
      "3643   112849.0  100159.0 -0.482628  1.32433\n",
      "5090   259125.0   71184.2 -1.964510 -2.75708\n",
      "\n",
      "\n",
      "The number of entries in the training data: 18063\n",
      "The number of entries in the validation data: 4516\n"
     ]
    }
   ],
   "source": [
    "import pandas as pd\n",
    "from sklearn.model_selection import train_test_split\n",
    "from pathlib import Path\n",
    "\n",
    "data_path = Path('monojet_Zp2000.0_DM_50.0_chan3.csv')\n",
    "\n",
    "data = dict()\n",
    "with open(data_path, 'r') as f:\n",
    "        for line in f:\n",
    "            \n",
    "            split = line.strip().split(';')\n",
    "            first_five = ''.join(split[0:4])\n",
    "            objs = split[5:]\n",
    "            \n",
    "            jets = []\n",
    "            for obj in objs:\n",
    "                split_obj = obj.strip().split(',')                \n",
    "                if 'j' in split_obj:\n",
    "                    jets.append([float(i) for i in split_obj[1:]])\n",
    "                    \n",
    "            data[first_five] = jets\n",
    "            counter += 1\n",
    "\n",
    "\n",
    "combined_jets = [jet for event in data.values() for jet in event]\n",
    "df = pd.DataFrame.from_records(combined_jets)\n",
    "df.columns = [\"E\",\"pt\",\"eta\",\"phi\"]\n",
    "\n",
    "train, test = train_test_split(df, test_size=0.2)\n",
    "\n",
    "\n",
    "# To get an idea of the order of magnitude we are going to see in the plots we show the first elements \n",
    "# in the samples:\n",
    "print('Training sample:')\n",
    "print(train.head())\n",
    "\n",
    "print('\\n')\n",
    "\n",
    "print('Testing sample:')\n",
    "print(test.head())\n",
    "\n",
    "print('\\n')\n",
    "\n",
    "print('The number of entries in the training data:', len(train))\n",
    "print('The number of entries in the validation data:', len(test))"
   ]
  },
  {
   "cell_type": "markdown",
   "metadata": {},
   "source": [
    "Now we plot the data using the matplotlib library. The units reflect the normalization, but it's the shape that we care about. "
   ]
  },
  {
   "cell_type": "code",
   "execution_count": 54,
   "metadata": {},
   "outputs": [
    {
     "data": {
      "image/png": "[encoded data removed]",
      "text/plain": [
       "<Figure size 432x288 with 1 Axes>"
      ]
     },
     "metadata": {
      "needs_background": "light"
     },
     "output_type": "display_data"
    },
    {
     "data": {
      "image/png": "[encoded data removed]",
      "text/plain": [
       "<Figure size 432x288 with 1 Axes>"
      ]
     },
     "metadata": {
      "needs_background": "light"
     },
     "output_type": "display_data"
    },
    {
     "data": {
      "image/png": "[encoded data removed]",
      "text/plain": [
       "<Figure size 432x288 with 1 Axes>"
      ]
     },
     "metadata": {
      "needs_background": "light"
     },
     "output_type": "display_data"
    },
    {
     "data": {
      "image/png": "[encoded data removed]",
      "text/plain": [
       "<Figure size 432x288 with 1 Axes>"
      ]
     },
     "metadata": {
      "needs_background": "light"
     },
     "output_type": "display_data"
    }
   ],
   "source": [
    "import matplotlib.pyplot as plt\n",
    "\n",
    "unit_list = ['[GeV]', '[GeV]', '[rad/3]', '[rad/3]']\n",
    "variable_list = [r'$E$', r'$p_T$', r'$\\eta$', r'$\\phi$']\n",
    "\n",
    "branches=[\"E\",\"pt\",\"eta\",\"phi\"]\n",
    "\n",
    "n_bins = 200\n",
    "\n",
    "for kk in range(0,4):\n",
    "    n_hist_data, bin_edges, _ = plt.hist(df[branches[kk]], color='gray', label='Input', alpha=1, bins=n_bins)\n",
    "    plt.xlabel(xlabel=variable_list[kk] + ' ' + unit_list[kk])\n",
    "    plt.ylabel('# of jets')\n",
    "    #plt.savefig(\"fourmomentum_\"+branches[kk],dpi=300)\n",
    "    plt.show()"
   ]
  },
  {
   "cell_type": "markdown",
   "metadata": {},
   "source": [
    "## Setting up the network"
   ]
  },
  {
   "cell_type": "markdown",
   "metadata": {},
   "source": [
    "### Preparing the data"
   ]
  },
  {
   "cell_type": "markdown",
   "metadata": {},
   "source": [
    "Adding the two datasets as TensorDatasets to PyTorch (also loading all other classes we'll need later)"
   ]
  },
  {
   "cell_type": "code",
   "execution_count": 107,
   "metadata": {},
   "outputs": [],
   "source": [
    "import torch\n",
    "import torch.nn as nn\n",
    "import torch.optim as optim\n",
    "import torch.utils.data\n",
    "from torch.autograd import Variable\n",
    "\n",
    "from torch.utils.data import TensorDataset\n",
    "from torch.utils.data import DataLoader\n",
    "\n",
    "from fastai import learner\n",
    "from fastai.data import core\n",
    "\n",
    "train_x = train\n",
    "test_x = test\n",
    "train_y = train_x  # y = x since we are building an autoencoder\n",
    "test_y = test_x\n",
    "\n",
    "# Constructs a tensor object of the data and wraps them in a TensorDataset object.\n",
    "train_ds = TensorDataset(torch.tensor(train_x.values, dtype=torch.float), torch.tensor(train_y.values, dtype=torch.float))\n",
    "valid_ds = TensorDataset(torch.tensor(test_x.values, dtype=torch.float), torch.tensor(test_y.values, dtype=torch.float))"
   ]
  },
  {
   "cell_type": "markdown",
   "metadata": {},
   "source": [
    "We now set things up to load the data, and we use a batch size that was optimized by previous students...note also that this is fastai v2, migration thanks to Jessica Lastow."
   ]
  },
  {
   "cell_type": "code",
   "execution_count": 108,
   "metadata": {},
   "outputs": [],
   "source": [
    "bs = 256\n",
    "\n",
    "# Converts the TensorDataset into a DataLoader object and combines into one DataLoaders object (a basic wrapper\n",
    "# around several DataLoader objects). \n",
    "train_dl = DataLoader(train_ds, batch_size=bs, shuffle=True)\n",
    "valid_dl = DataLoader(valid_ds, batch_size=bs * 2)\n",
    "dls = core.DataLoaders(train_dl, valid_dl)"
   ]
  },
  {
   "cell_type": "markdown",
   "metadata": {},
   "source": [
    "### Preparing the network"
   ]
  },
  {
   "cell_type": "markdown",
   "metadata": {},
   "source": [
    "Here we have an example network. Details aren't too important, as long as they match what was already trained for us...in this case we have a LeakyReLU, tanh activation function, and a number of layers that goes from 4 to 200 to 20 to 3 (number of features in the hidden layer that we pick for testing compression) and then back all the way to 4. "
   ]
  },
  {
   "cell_type": "code",
   "execution_count": 109,
   "metadata": {},
   "outputs": [
    {
     "data": {
      "text/plain": [
       "AE_3D_200_LeakyReLU(\n",
       "  (en1): Linear(in_features=4, out_features=200, bias=True)\n",
       "  (en2): Linear(in_features=200, out_features=200, bias=True)\n",
       "  (en3): Linear(in_features=200, out_features=20, bias=True)\n",
       "  (en4): Linear(in_features=20, out_features=3, bias=True)\n",
       "  (de1): Linear(in_features=3, out_features=20, bias=True)\n",
       "  (de2): Linear(in_features=20, out_features=200, bias=True)\n",
       "  (de3): Linear(in_features=200, out_features=200, bias=True)\n",
       "  (de4): Linear(in_features=200, out_features=4, bias=True)\n",
       "  (tanh): Tanh()\n",
       ")"
      ]
     },
     "execution_count": 109,
     "metadata": {},
     "output_type": "execute_result"
    }
   ],
   "source": [
    "class AE_3D_200_LeakyReLU(nn.Module):\n",
    "    def __init__(self, n_features=4):\n",
    "        super(AE_3D_200_LeakyReLU, self).__init__()\n",
    "        self.en1 = nn.Linear(n_features, 200)\n",
    "        self.en2 = nn.Linear(200, 200)\n",
    "        self.en3 = nn.Linear(200, 20)\n",
    "        self.en4 = nn.Linear(20, 3)\n",
    "        self.de1 = nn.Linear(3, 20)\n",
    "        self.de2 = nn.Linear(20, 200)\n",
    "        self.de3 = nn.Linear(200, 200)\n",
    "        self.de4 = nn.Linear(200, n_features)\n",
    "        self.tanh = nn.Tanh()\n",
    "\n",
    "    def encode(self, x):\n",
    "        return self.en4(self.tanh(self.en3(self.tanh(self.en2(self.tanh(self.en1(x)))))))\n",
    "\n",
    "    def decode(self, x):\n",
    "        return self.de4(self.tanh(self.de3(self.tanh(self.de2(self.tanh(self.de1(self.tanh(x))))))))\n",
    "\n",
    "    def forward(self, x):\n",
    "        z = self.encode(x)\n",
    "        return self.decode(z)\n",
    "\n",
    "    def describe(self):\n",
    "        return 'in-200-200-20-3-20-200-200-out'\n",
    "\n",
    "#model = AE_3D_200_LeakyReLU().double()\n",
    "model = AE_3D_200_LeakyReLU()\n",
    "model.to('cpu')"
   ]
  },
  {
   "cell_type": "markdown",
   "metadata": {},
   "source": [
    "We now have to pick a loss function - MSE loss is appropriate for a compression autoencoder since it reflects the [(input-output)/input] physical quantity that we want to minimize. "
   ]
  },
  {
   "cell_type": "code",
   "execution_count": 110,
   "metadata": {},
   "outputs": [],
   "source": [
    "from fastai.metrics import mse\n",
    "\n",
    "loss_func = nn.MSELoss()\n",
    "\n",
    "#bn_wd = False  # Don't use weight decay for batchnorm layers\n",
    "#true_wd = True  # weight decay will be used for all optimizers\n",
    "wd = 1e-6\n",
    "\n",
    "recorder = learner.Recorder()\n",
    "learn = learner.Learner(dls, model=model, wd=wd, loss_func=loss_func, cbs=recorder)"
   ]
  },
  {
   "cell_type": "markdown",
   "metadata": {},
   "source": [
    "## Training the network"
   ]
  },
  {
   "cell_type": "markdown",
   "metadata": {},
   "source": [
    "First, we want to find the best learning rate. The learning rate is a hyper-parameter that sets how much the weights of the network will change each step with respect to the loss gradient.\n",
    "\n",
    "Then we plot the loss versus the learning rates. We're interested in finding a good order of magnitude of learning rate, so we plot with a log scale.\n",
    "\n",
    "A good value for the learning rates is then either:\n",
    "- one tenth of the minimum before the divergence\n",
    "- when the slope is the steepest"
   ]
  },
  {
   "cell_type": "code",
   "execution_count": 111,
   "metadata": {
    "scrolled": true
   },
   "outputs": [
    {
     "name": "stdout",
     "output_type": "stream",
     "text": [
      "Learning rate with the minimum loss: 6.309573450380412e-08\n",
      "Learning rate with the steepest gradient: 3.981071586167673e-06\n"
     ]
    },
    {
     "data": {
      "image/png": "[encoded data removed]",
      "text/plain": [
       "<Figure size 432x288 with 1 Axes>"
      ]
     },
     "metadata": {
      "needs_background": "light"
     },
     "output_type": "display_data"
    }
   ],
   "source": [
    "from fastai.callback import schedule\n",
    "\n",
    "lr_min, lr_steep = learn.lr_find()\n",
    "\n",
    "print('Learning rate with the minimum loss:', lr_min)\n",
    "print('Learning rate with the steepest gradient:', lr_steep)"
   ]
  },
  {
   "cell_type": "markdown",
   "metadata": {},
   "source": [
    "Now we want to run the training!\n",
    "\n",
    "User-chosen variables:\n",
    "- n_epoch: The number of epochs, i.e how many times the to run through all of the training data once (i.e the 1266046 entries, see cell 2)\n",
    "- lr: The learning rate. Either choose lr_min, lr_steep from above or set your own.\n"
   ]
  },
  {
   "cell_type": "code",
   "execution_count": 62,
   "metadata": {},
   "outputs": [
    {
     "name": "stdout",
     "output_type": "stream",
     "text": [
      "[0, 125190561792.0, 124424339456.0, '00:00']\n",
      "[0, 125190561792.0, 124424339456.0, '00:00']\n",
      "[1, 125443694592.0, 124418138112.0, '00:00']\n",
      "[1, 125443694592.0, 124418138112.0, '00:00']\n",
      "[2, 124469141504.0, 124410241024.0, '00:00']\n",
      "[2, 124469141504.0, 124410241024.0, '00:00']\n",
      "[3, 124420857856.0, 124399722496.0, '00:00']\n",
      "[3, 124420857856.0, 124399722496.0, '00:00']\n",
      "[4, 124150382592.0, 124385681408.0, '00:00']\n",
      "[4, 124150382592.0, 124385681408.0, '00:00']\n",
      "[5, 124554625024.0, 124367421440.0, '00:00']\n",
      "[5, 124554625024.0, 124367421440.0, '00:00']\n",
      "[6, 125370597376.0, 124344139776.0, '00:00']\n",
      "[6, 125370597376.0, 124344139776.0, '00:00']\n",
      "[7, 124959219712.0, 124315156480.0, '00:00']\n",
      "[7, 124959219712.0, 124315156480.0, '00:00']\n",
      "[8, 125646176256.0, 124280061952.0, '00:00']\n",
      "[8, 125646176256.0, 124280061952.0, '00:00']\n",
      "[9, 124907118592.0, 124238307328.0, '00:00']\n",
      "[9, 124907118592.0, 124238307328.0, '00:00']\n",
      "[10, 124757508096.0, 124189630464.0, '00:00']\n",
      "[10, 124757508096.0, 124189630464.0, '00:00']\n",
      "[11, 125641007104.0, 124133965824.0, '00:00']\n",
      "[11, 125641007104.0, 124133965824.0, '00:00']\n",
      "[12, 124660326400.0, 124070789120.0, '00:00']\n",
      "[12, 124660326400.0, 124070789120.0, '00:00']\n",
      "[13, 124747137024.0, 124000477184.0, '00:00']\n",
      "[13, 124747137024.0, 124000477184.0, '00:00']\n",
      "[14, 124440551424.0, 123923030016.0, '00:00']\n",
      "[14, 124440551424.0, 123923030016.0, '00:00']\n",
      "[15, 123449032704.0, 123838824448.0, '00:01']\n",
      "[15, 123449032704.0, 123838824448.0, '00:01']\n",
      "[16, 125000974336.0, 123748057088.0, '00:00']\n",
      "[16, 125000974336.0, 123748057088.0, '00:00']\n",
      "[17, 124578103296.0, 123650932736.0, '00:00']\n",
      "[17, 124578103296.0, 123650932736.0, '00:00']\n",
      "[18, 123882381312.0, 123548655616.0, '00:00']\n",
      "[18, 123882381312.0, 123548655616.0, '00:00']\n",
      "[19, 124073975808.0, 123441135616.0, '00:00']\n",
      "[19, 124073975808.0, 123441135616.0, '00:00']\n",
      "[20, 123630419968.0, 123329781760.0, '00:01']\n",
      "[20, 123630419968.0, 123329781760.0, '00:01']\n",
      "[21, 123651366912.0, 123214872576.0, '00:01']\n",
      "[21, 123651366912.0, 123214872576.0, '00:01']\n",
      "[22, 124323971072.0, 123097628672.0, '00:01']\n",
      "[22, 124323971072.0, 123097628672.0, '00:01']\n",
      "[23, 124749324288.0, 122978213888.0, '00:01']\n",
      "[23, 124749324288.0, 122978213888.0, '00:01']\n",
      "[24, 123504533504.0, 122858315776.0, '00:01']\n",
      "[24, 123504533504.0, 122858315776.0, '00:01']\n",
      "[25, 123442855936.0, 122738606080.0, '00:01']\n",
      "[25, 123442855936.0, 122738606080.0, '00:01']\n",
      "[26, 122618781696.0, 122619101184.0, '00:01']\n",
      "[26, 122618781696.0, 122619101184.0, '00:01']\n",
      "[27, 122996105216.0, 122499891200.0, '00:01']\n",
      "[27, 122996105216.0, 122499891200.0, '00:01']\n",
      "[28, 122260791296.0, 122381033472.0, '00:01']\n",
      "[28, 122260791296.0, 122381033472.0, '00:01']\n",
      "[29, 123610308608.0, 122262724608.0, '00:01']\n",
      "[29, 123610308608.0, 122262724608.0, '00:01']\n",
      "[30, 122508165120.0, 122144899072.0, '00:01']\n",
      "[30, 122508165120.0, 122144899072.0, '00:01']\n",
      "[31, 122442235904.0, 122028163072.0, '00:00']\n",
      "[31, 122442235904.0, 122028163072.0, '00:00']\n",
      "[32, 122158202880.0, 121912000512.0, '00:00']\n",
      "[32, 122158202880.0, 121912000512.0, '00:00']\n",
      "[33, 122168975360.0, 121796911104.0, '00:00']\n",
      "[33, 122168975360.0, 121796911104.0, '00:00']\n",
      "[34, 124074663936.0, 121682624512.0, '00:00']\n",
      "[34, 124074663936.0, 121682624512.0, '00:00']\n",
      "[35, 122816225280.0, 121569492992.0, '00:01']\n",
      "[35, 122816225280.0, 121569492992.0, '00:01']\n",
      "[36, 121993240576.0, 121457885184.0, '00:01']\n",
      "[36, 121993240576.0, 121457885184.0, '00:01']\n",
      "[37, 121972187136.0, 121347407872.0, '00:00']\n",
      "[37, 121972187136.0, 121347407872.0, '00:00']\n",
      "[38, 122558300160.0, 121238224896.0, '00:00']\n",
      "[38, 122558300160.0, 121238224896.0, '00:00']\n",
      "[39, 122965147648.0, 121130696704.0, '00:00']\n",
      "[39, 122965147648.0, 121130696704.0, '00:00']\n",
      "[40, 121249267712.0, 121024569344.0, '00:01']\n",
      "[40, 121249267712.0, 121024569344.0, '00:01']\n",
      "[41, 122315382784.0, 120920457216.0, '00:01']\n",
      "[41, 122315382784.0, 120920457216.0, '00:01']\n",
      "[42, 121756893184.0, 120817483776.0, '00:01']\n",
      "[42, 121756893184.0, 120817483776.0, '00:01']\n",
      "[43, 121841950720.0, 120716640256.0, '00:00']\n",
      "[43, 121841950720.0, 120716640256.0, '00:00']\n",
      "[44, 121662447616.0, 120617664512.0, '00:01']\n",
      "[44, 121662447616.0, 120617664512.0, '00:01']\n",
      "[45, 122113425408.0, 120520286208.0, '00:01']\n",
      "[45, 122113425408.0, 120520286208.0, '00:01']\n",
      "[46, 121518882816.0, 120425070592.0, '00:01']\n",
      "[46, 121518882816.0, 120425070592.0, '00:01']\n",
      "[47, 121265242112.0, 120332025856.0, '00:00']\n",
      "[47, 121265242112.0, 120332025856.0, '00:00']\n",
      "[48, 120626839552.0, 120240889856.0, '00:00']\n",
      "[48, 120626839552.0, 120240889856.0, '00:00']\n",
      "[49, 120701272064.0, 120151875584.0, '00:00']\n",
      "[49, 120701272064.0, 120151875584.0, '00:00']\n",
      "[50, 121269747712.0, 120065466368.0, '00:01']\n",
      "[50, 121269747712.0, 120065466368.0, '00:01']\n",
      "[51, 120840273920.0, 119980883968.0, '00:00']\n",
      "[51, 120840273920.0, 119980883968.0, '00:00']\n",
      "[52, 121575620608.0, 119898718208.0, '00:01']\n",
      "[52, 121575620608.0, 119898718208.0, '00:01']\n",
      "[53, 121214607360.0, 119818805248.0, '00:01']\n",
      "[53, 121214607360.0, 119818805248.0, '00:01']\n",
      "[54, 120753905664.0, 119741095936.0, '00:01']\n",
      "[54, 120753905664.0, 119741095936.0, '00:01']\n",
      "[55, 120507555840.0, 119666147328.0, '00:01']\n",
      "[55, 120507555840.0, 119666147328.0, '00:01']\n",
      "[56, 120551571456.0, 119593312256.0, '00:01']\n",
      "[56, 120551571456.0, 119593312256.0, '00:01']\n",
      "[57, 120263057408.0, 119523033088.0, '00:01']\n",
      "[57, 120263057408.0, 119523033088.0, '00:01']\n",
      "[58, 120742518784.0, 119455137792.0, '00:01']\n",
      "[58, 120742518784.0, 119455137792.0, '00:01']\n",
      "[59, 121242099712.0, 119389536256.0, '00:01']\n",
      "[59, 121242099712.0, 119389536256.0, '00:01']\n",
      "[60, 119636451328.0, 119326597120.0, '00:01']\n",
      "[60, 119636451328.0, 119326597120.0, '00:01']\n",
      "[61, 119309082624.0, 119266033664.0, '00:00']\n",
      "[61, 119309082624.0, 119266033664.0, '00:00']\n",
      "[62, 120726323200.0, 119208042496.0, '00:00']\n",
      "[62, 120726323200.0, 119208042496.0, '00:00']\n",
      "[63, 120055627776.0, 119152246784.0, '00:00']\n",
      "[63, 120055627776.0, 119152246784.0, '00:00']\n",
      "[64, 120361066496.0, 119099195392.0, '00:00']\n",
      "[64, 120361066496.0, 119099195392.0, '00:00']\n",
      "[65, 119962533888.0, 119048421376.0, '00:01']\n",
      "[65, 119962533888.0, 119048421376.0, '00:01']\n",
      "[66, 119626776576.0, 119000096768.0, '00:01']\n",
      "[66, 119626776576.0, 119000096768.0, '00:01']\n",
      "[67, 118696255488.0, 118954139648.0, '00:01']\n",
      "[67, 118696255488.0, 118954139648.0, '00:01']\n",
      "[68, 119112032256.0, 118910697472.0, '00:00']\n",
      "[68, 119112032256.0, 118910697472.0, '00:00']\n",
      "[69, 118992805888.0, 118869532672.0, '00:01']\n",
      "[69, 118992805888.0, 118869532672.0, '00:01']\n",
      "[70, 119292780544.0, 118830702592.0, '00:00']\n",
      "[70, 119292780544.0, 118830702592.0, '00:00']\n",
      "[71, 118555541504.0, 118794108928.0, '00:00']\n",
      "[71, 118555541504.0, 118794108928.0, '00:00']\n",
      "[72, 119293411328.0, 118759882752.0, '00:00']\n",
      "[72, 119293411328.0, 118759882752.0, '00:00']\n",
      "[73, 119761477632.0, 118727630848.0, '00:00']\n",
      "[73, 119761477632.0, 118727630848.0, '00:00']\n",
      "[74, 119698268160.0, 118697705472.0, '00:00']\n",
      "[74, 119698268160.0, 118697705472.0, '00:00']\n",
      "[75, 119383842816.0, 118669844480.0, '00:01']\n",
      "[75, 119383842816.0, 118669844480.0, '00:01']\n",
      "[76, 118895296512.0, 118644006912.0, '00:00']\n",
      "[76, 118895296512.0, 118644006912.0, '00:00']\n",
      "[77, 119724228608.0, 118620233728.0, '00:00']\n",
      "[77, 119724228608.0, 118620233728.0, '00:00']\n",
      "[78, 120120434688.0, 118598344704.0, '00:01']\n",
      "[78, 120120434688.0, 118598344704.0, '00:01']\n",
      "[79, 119918944256.0, 118578315264.0, '00:01']\n",
      "[79, 119918944256.0, 118578315264.0, '00:01']\n",
      "[80, 119445823488.0, 118560088064.0, '00:01']\n",
      "[80, 119445823488.0, 118560088064.0, '00:01']\n",
      "[81, 120397307904.0, 118543605760.0, '00:01']\n",
      "[81, 120397307904.0, 118543605760.0, '00:01']\n",
      "[82, 119532675072.0, 118528745472.0, '00:01']\n",
      "[82, 119532675072.0, 118528745472.0, '00:01']\n",
      "[83, 119890026496.0, 118515515392.0, '00:01']\n",
      "[83, 119890026496.0, 118515515392.0, '00:01']\n",
      "[84, 119541489664.0, 118503759872.0, '00:01']\n",
      "[84, 119541489664.0, 118503759872.0, '00:01']\n",
      "[85, 118853632000.0, 118493429760.0, '00:00']\n",
      "[85, 118853632000.0, 118493429760.0, '00:00']\n",
      "[86, 118648799232.0, 118484426752.0, '00:00']\n",
      "[86, 118648799232.0, 118484426752.0, '00:00']\n",
      "[87, 120241561600.0, 118476734464.0, '00:00']\n",
      "[87, 120241561600.0, 118476734464.0, '00:00']\n",
      "[88, 119490764800.0, 118470115328.0, '00:01']\n",
      "[88, 119490764800.0, 118470115328.0, '00:01']\n",
      "[89, 119310204928.0, 118464618496.0, '00:01']\n",
      "[89, 119310204928.0, 118464618496.0, '00:01']\n"
     ]
    },
    {
     "name": "stdout",
     "output_type": "stream",
     "text": [
      "[90, 119203569664.0, 118460112896.0, '00:00']\n",
      "[90, 119203569664.0, 118460112896.0, '00:00']\n",
      "[91, 118066020352.0, 118456492032.0, '00:00']\n",
      "[91, 118066020352.0, 118456492032.0, '00:00']\n",
      "[92, 120010702848.0, 118453665792.0, '00:00']\n",
      "[92, 120010702848.0, 118453665792.0, '00:00']\n",
      "[93, 119897333760.0, 118451511296.0, '00:01']\n",
      "[93, 119897333760.0, 118451511296.0, '00:01']\n",
      "[94, 119444660224.0, 118449979392.0, '00:01']\n",
      "[94, 119444660224.0, 118449979392.0, '00:01']\n",
      "[95, 120265285632.0, 118448947200.0, '00:01']\n",
      "[95, 120265285632.0, 118448947200.0, '00:01']\n",
      "[96, 120965193728.0, 118448340992.0, '00:01']\n",
      "[96, 120965193728.0, 118448340992.0, '00:01']\n",
      "[97, 119087595520.0, 118448005120.0, '00:01']\n",
      "[97, 119087595520.0, 118448005120.0, '00:01']\n",
      "[98, 118637576192.0, 118447882240.0, '00:01']\n",
      "[98, 118637576192.0, 118447882240.0, '00:01']\n",
      "[99, 118799179776.0, 118447865856.0, '00:01']\n",
      "[99, 118799179776.0, 118447865856.0, '00:01']\n",
      "Training took 99.42554669996025 seconds\n"
     ]
    }
   ],
   "source": [
    "import time\n",
    "\n",
    "start = time.perf_counter() # Starts timer\n",
    "learn.fit_one_cycle(n_epoch=100, lr_max=lr_min)\n",
    "end = time.perf_counter() # Ends timer\n",
    "delta_t = end - start\n",
    "print('Training took', delta_t, 'seconds')"
   ]
  },
  {
   "cell_type": "markdown",
   "metadata": {},
   "source": [
    "Then we plot the loss as a function of batches and epochs to check if we reach a plateau."
   ]
  },
  {
   "cell_type": "code",
   "execution_count": 63,
   "metadata": {},
   "outputs": [
    {
     "data": {
      "image/png": "[encoded data removed]",
      "text/plain": [
       "<Figure size 432x288 with 1 Axes>"
      ]
     },
     "metadata": {
      "needs_background": "light"
     },
     "output_type": "display_data"
    }
   ],
   "source": [
    "recorder.plot_loss()"
   ]
  },
  {
   "cell_type": "markdown",
   "metadata": {},
   "source": [
    "Then we evaluate the MSE on this network - it should be of the order of 0.001 or less if all has gone well...if it has not trained as well (note the pesky 0-mass peak above...) then it's going to be a bit higher."
   ]
  },
  {
   "cell_type": "code",
   "execution_count": 64,
   "metadata": {},
   "outputs": [
    {
     "data": {
      "text/plain": [
       "(#1) [118447865856.0]"
      ]
     },
     "execution_count": 64,
     "metadata": {},
     "output_type": "execute_result"
    }
   ],
   "source": [
    "learn.validate()"
   ]
  },
  {
   "cell_type": "markdown",
   "metadata": {},
   "source": [
    "Let's plot all of this, with ratios (thanks to code by Erik Wallin)"
   ]
  },
  {
   "cell_type": "markdown",
   "metadata": {},
   "source": [
    "## Plotting the outputs of the network"
   ]
  },
  {
   "cell_type": "markdown",
   "metadata": {},
   "source": [
    "Lazy-save of our output files (they'll also be on screen)"
   ]
  },
  {
   "cell_type": "code",
   "execution_count": 65,
   "metadata": {},
   "outputs": [],
   "source": [
    "import os\n",
    "save_dir = \"plotOutput\"\n",
    "if not os.path.exists(save_dir):\n",
    "    os.makedirs(save_dir)"
   ]
  },
  {
   "cell_type": "markdown",
   "metadata": {},
   "source": [
    "A function in case we want to un-normalize and get back to physical quantities..."
   ]
  },
  {
   "cell_type": "code",
   "execution_count": 72,
   "metadata": {},
   "outputs": [],
   "source": [
    "def custom_unnormalize(df):\n",
    "    df['eta'] = df['eta'] * 5\n",
    "    df['phi'] = df['phi'] * 3\n",
    "    df['E'] = 10**df['E']\n",
    "    df['pt'] = 10**(df['pt'])\n",
    "    return df"
   ]
  },
  {
   "cell_type": "markdown",
   "metadata": {},
   "source": [
    "Make the histograms from the dataset..."
   ]
  },
  {
   "cell_type": "code",
   "execution_count": 106,
   "metadata": {},
   "outputs": [
    {
     "ename": "ValueError",
     "evalue": "supplied range of [inf, inf] is not finite",
     "output_type": "error",
     "traceback": [
      "\u001b[1;31m---------------------------------------------------------------------------\u001b[0m",
      "\u001b[1;31mValueError\u001b[0m                                Traceback (most recent call last)",
      "\u001b[1;32m<ipython-input-106-89a345045b64>\u001b[0m in \u001b[0;36m<module>\u001b[1;34m\u001b[0m\n\u001b[0;32m     27\u001b[0m \u001b[1;32mfor\u001b[0m \u001b[0mkk\u001b[0m \u001b[1;32min\u001b[0m \u001b[0mrange\u001b[0m\u001b[1;33m(\u001b[0m\u001b[1;36m0\u001b[0m\u001b[1;33m,\u001b[0m \u001b[1;36m4\u001b[0m\u001b[1;33m)\u001b[0m\u001b[1;33m:\u001b[0m\u001b[1;33m\u001b[0m\u001b[1;33m\u001b[0m\u001b[0m\n\u001b[0;32m     28\u001b[0m     \u001b[0mplt\u001b[0m\u001b[1;33m.\u001b[0m\u001b[0mfigure\u001b[0m\u001b[1;33m(\u001b[0m\u001b[1;33m)\u001b[0m\u001b[1;33m\u001b[0m\u001b[1;33m\u001b[0m\u001b[0m\n\u001b[1;32m---> 29\u001b[1;33m     \u001b[0mn_hist_data\u001b[0m\u001b[1;33m,\u001b[0m \u001b[0mbin_edges\u001b[0m\u001b[1;33m,\u001b[0m \u001b[0m_\u001b[0m \u001b[1;33m=\u001b[0m \u001b[0mplt\u001b[0m\u001b[1;33m.\u001b[0m\u001b[0mhist\u001b[0m\u001b[1;33m(\u001b[0m\u001b[0mdata_df\u001b[0m\u001b[1;33m[\u001b[0m\u001b[0mbranches\u001b[0m\u001b[1;33m[\u001b[0m\u001b[0mkk\u001b[0m\u001b[1;33m]\u001b[0m\u001b[1;33m]\u001b[0m\u001b[1;33m,\u001b[0m \u001b[0mcolor\u001b[0m\u001b[1;33m=\u001b[0m\u001b[0mcolors\u001b[0m\u001b[1;33m[\u001b[0m\u001b[1;36m1\u001b[0m\u001b[1;33m]\u001b[0m\u001b[1;33m,\u001b[0m \u001b[0mlabel\u001b[0m\u001b[1;33m=\u001b[0m\u001b[1;34m'Input'\u001b[0m\u001b[1;33m,\u001b[0m \u001b[0malpha\u001b[0m\u001b[1;33m=\u001b[0m\u001b[1;36m1\u001b[0m\u001b[1;33m,\u001b[0m \u001b[0mbins\u001b[0m\u001b[1;33m=\u001b[0m\u001b[0mn_bins\u001b[0m\u001b[1;33m)\u001b[0m\u001b[1;33m\u001b[0m\u001b[1;33m\u001b[0m\u001b[0m\n\u001b[0m\u001b[0;32m     30\u001b[0m     \u001b[0mn_hist_pred\u001b[0m\u001b[1;33m,\u001b[0m \u001b[0m_\u001b[0m\u001b[1;33m,\u001b[0m \u001b[0m_\u001b[0m \u001b[1;33m=\u001b[0m \u001b[0mplt\u001b[0m\u001b[1;33m.\u001b[0m\u001b[0mhist\u001b[0m\u001b[1;33m(\u001b[0m\u001b[0mpred_df\u001b[0m\u001b[1;33m[\u001b[0m\u001b[0mbranches\u001b[0m\u001b[1;33m[\u001b[0m\u001b[0mkk\u001b[0m\u001b[1;33m]\u001b[0m\u001b[1;33m]\u001b[0m\u001b[1;33m,\u001b[0m \u001b[0mcolor\u001b[0m\u001b[1;33m=\u001b[0m\u001b[0mcolors\u001b[0m\u001b[1;33m[\u001b[0m\u001b[1;36m0\u001b[0m\u001b[1;33m]\u001b[0m\u001b[1;33m,\u001b[0m \u001b[0mlabel\u001b[0m\u001b[1;33m=\u001b[0m\u001b[1;34m'Output'\u001b[0m\u001b[1;33m,\u001b[0m \u001b[0malpha\u001b[0m\u001b[1;33m=\u001b[0m\u001b[0malph\u001b[0m\u001b[1;33m,\u001b[0m \u001b[0mbins\u001b[0m\u001b[1;33m=\u001b[0m\u001b[0mbin_edges\u001b[0m\u001b[1;33m)\u001b[0m\u001b[1;33m\u001b[0m\u001b[1;33m\u001b[0m\u001b[0m\n\u001b[0;32m     31\u001b[0m     \u001b[0mplt\u001b[0m\u001b[1;33m.\u001b[0m\u001b[0msuptitle\u001b[0m\u001b[1;33m(\u001b[0m\u001b[0mtest\u001b[0m\u001b[1;33m.\u001b[0m\u001b[0mcolumns\u001b[0m\u001b[1;33m[\u001b[0m\u001b[0mkk\u001b[0m\u001b[1;33m]\u001b[0m\u001b[1;33m)\u001b[0m\u001b[1;33m\u001b[0m\u001b[1;33m\u001b[0m\u001b[0m\n",
      "\u001b[1;32mc:\\python3\\lib\\site-packages\\matplotlib\\pyplot.py\u001b[0m in \u001b[0;36mhist\u001b[1;34m(x, bins, range, density, weights, cumulative, bottom, histtype, align, orientation, rwidth, log, color, label, stacked, data, **kwargs)\u001b[0m\n\u001b[0;32m   2683\u001b[0m         \u001b[0morientation\u001b[0m\u001b[1;33m=\u001b[0m\u001b[1;34m'vertical'\u001b[0m\u001b[1;33m,\u001b[0m \u001b[0mrwidth\u001b[0m\u001b[1;33m=\u001b[0m\u001b[1;32mNone\u001b[0m\u001b[1;33m,\u001b[0m \u001b[0mlog\u001b[0m\u001b[1;33m=\u001b[0m\u001b[1;32mFalse\u001b[0m\u001b[1;33m,\u001b[0m \u001b[0mcolor\u001b[0m\u001b[1;33m=\u001b[0m\u001b[1;32mNone\u001b[0m\u001b[1;33m,\u001b[0m\u001b[1;33m\u001b[0m\u001b[1;33m\u001b[0m\u001b[0m\n\u001b[0;32m   2684\u001b[0m         label=None, stacked=False, *, data=None, **kwargs):\n\u001b[1;32m-> 2685\u001b[1;33m     return gca().hist(\n\u001b[0m\u001b[0;32m   2686\u001b[0m         \u001b[0mx\u001b[0m\u001b[1;33m,\u001b[0m \u001b[0mbins\u001b[0m\u001b[1;33m=\u001b[0m\u001b[0mbins\u001b[0m\u001b[1;33m,\u001b[0m \u001b[0mrange\u001b[0m\u001b[1;33m=\u001b[0m\u001b[0mrange\u001b[0m\u001b[1;33m,\u001b[0m \u001b[0mdensity\u001b[0m\u001b[1;33m=\u001b[0m\u001b[0mdensity\u001b[0m\u001b[1;33m,\u001b[0m \u001b[0mweights\u001b[0m\u001b[1;33m=\u001b[0m\u001b[0mweights\u001b[0m\u001b[1;33m,\u001b[0m\u001b[1;33m\u001b[0m\u001b[1;33m\u001b[0m\u001b[0m\n\u001b[0;32m   2687\u001b[0m         \u001b[0mcumulative\u001b[0m\u001b[1;33m=\u001b[0m\u001b[0mcumulative\u001b[0m\u001b[1;33m,\u001b[0m \u001b[0mbottom\u001b[0m\u001b[1;33m=\u001b[0m\u001b[0mbottom\u001b[0m\u001b[1;33m,\u001b[0m \u001b[0mhisttype\u001b[0m\u001b[1;33m=\u001b[0m\u001b[0mhisttype\u001b[0m\u001b[1;33m,\u001b[0m\u001b[1;33m\u001b[0m\u001b[1;33m\u001b[0m\u001b[0m\n",
      "\u001b[1;32mc:\\python3\\lib\\site-packages\\matplotlib\\__init__.py\u001b[0m in \u001b[0;36minner\u001b[1;34m(ax, data, *args, **kwargs)\u001b[0m\n\u001b[0;32m   1445\u001b[0m     \u001b[1;32mdef\u001b[0m \u001b[0minner\u001b[0m\u001b[1;33m(\u001b[0m\u001b[0max\u001b[0m\u001b[1;33m,\u001b[0m \u001b[1;33m*\u001b[0m\u001b[0margs\u001b[0m\u001b[1;33m,\u001b[0m \u001b[0mdata\u001b[0m\u001b[1;33m=\u001b[0m\u001b[1;32mNone\u001b[0m\u001b[1;33m,\u001b[0m \u001b[1;33m**\u001b[0m\u001b[0mkwargs\u001b[0m\u001b[1;33m)\u001b[0m\u001b[1;33m:\u001b[0m\u001b[1;33m\u001b[0m\u001b[1;33m\u001b[0m\u001b[0m\n\u001b[0;32m   1446\u001b[0m         \u001b[1;32mif\u001b[0m \u001b[0mdata\u001b[0m \u001b[1;32mis\u001b[0m \u001b[1;32mNone\u001b[0m\u001b[1;33m:\u001b[0m\u001b[1;33m\u001b[0m\u001b[1;33m\u001b[0m\u001b[0m\n\u001b[1;32m-> 1447\u001b[1;33m             \u001b[1;32mreturn\u001b[0m \u001b[0mfunc\u001b[0m\u001b[1;33m(\u001b[0m\u001b[0max\u001b[0m\u001b[1;33m,\u001b[0m \u001b[1;33m*\u001b[0m\u001b[0mmap\u001b[0m\u001b[1;33m(\u001b[0m\u001b[0msanitize_sequence\u001b[0m\u001b[1;33m,\u001b[0m \u001b[0margs\u001b[0m\u001b[1;33m)\u001b[0m\u001b[1;33m,\u001b[0m \u001b[1;33m**\u001b[0m\u001b[0mkwargs\u001b[0m\u001b[1;33m)\u001b[0m\u001b[1;33m\u001b[0m\u001b[1;33m\u001b[0m\u001b[0m\n\u001b[0m\u001b[0;32m   1448\u001b[0m \u001b[1;33m\u001b[0m\u001b[0m\n\u001b[0;32m   1449\u001b[0m         \u001b[0mbound\u001b[0m \u001b[1;33m=\u001b[0m \u001b[0mnew_sig\u001b[0m\u001b[1;33m.\u001b[0m\u001b[0mbind\u001b[0m\u001b[1;33m(\u001b[0m\u001b[0max\u001b[0m\u001b[1;33m,\u001b[0m \u001b[1;33m*\u001b[0m\u001b[0margs\u001b[0m\u001b[1;33m,\u001b[0m \u001b[1;33m**\u001b[0m\u001b[0mkwargs\u001b[0m\u001b[1;33m)\u001b[0m\u001b[1;33m\u001b[0m\u001b[1;33m\u001b[0m\u001b[0m\n",
      "\u001b[1;32mc:\\python3\\lib\\site-packages\\matplotlib\\axes\\_axes.py\u001b[0m in \u001b[0;36mhist\u001b[1;34m(self, x, bins, range, density, weights, cumulative, bottom, histtype, align, orientation, rwidth, log, color, label, stacked, **kwargs)\u001b[0m\n\u001b[0;32m   6649\u001b[0m             \u001b[1;31m# this will automatically overwrite bins,\u001b[0m\u001b[1;33m\u001b[0m\u001b[1;33m\u001b[0m\u001b[1;33m\u001b[0m\u001b[0m\n\u001b[0;32m   6650\u001b[0m             \u001b[1;31m# so that each histogram uses the same bins\u001b[0m\u001b[1;33m\u001b[0m\u001b[1;33m\u001b[0m\u001b[1;33m\u001b[0m\u001b[0m\n\u001b[1;32m-> 6651\u001b[1;33m             \u001b[0mm\u001b[0m\u001b[1;33m,\u001b[0m \u001b[0mbins\u001b[0m \u001b[1;33m=\u001b[0m \u001b[0mnp\u001b[0m\u001b[1;33m.\u001b[0m\u001b[0mhistogram\u001b[0m\u001b[1;33m(\u001b[0m\u001b[0mx\u001b[0m\u001b[1;33m[\u001b[0m\u001b[0mi\u001b[0m\u001b[1;33m]\u001b[0m\u001b[1;33m,\u001b[0m \u001b[0mbins\u001b[0m\u001b[1;33m,\u001b[0m \u001b[0mweights\u001b[0m\u001b[1;33m=\u001b[0m\u001b[0mw\u001b[0m\u001b[1;33m[\u001b[0m\u001b[0mi\u001b[0m\u001b[1;33m]\u001b[0m\u001b[1;33m,\u001b[0m \u001b[1;33m**\u001b[0m\u001b[0mhist_kwargs\u001b[0m\u001b[1;33m)\u001b[0m\u001b[1;33m\u001b[0m\u001b[1;33m\u001b[0m\u001b[0m\n\u001b[0m\u001b[0;32m   6652\u001b[0m             \u001b[0mtops\u001b[0m\u001b[1;33m.\u001b[0m\u001b[0mappend\u001b[0m\u001b[1;33m(\u001b[0m\u001b[0mm\u001b[0m\u001b[1;33m)\u001b[0m\u001b[1;33m\u001b[0m\u001b[1;33m\u001b[0m\u001b[0m\n\u001b[0;32m   6653\u001b[0m         \u001b[0mtops\u001b[0m \u001b[1;33m=\u001b[0m \u001b[0mnp\u001b[0m\u001b[1;33m.\u001b[0m\u001b[0marray\u001b[0m\u001b[1;33m(\u001b[0m\u001b[0mtops\u001b[0m\u001b[1;33m,\u001b[0m \u001b[0mfloat\u001b[0m\u001b[1;33m)\u001b[0m  \u001b[1;31m# causes problems later if it's an int\u001b[0m\u001b[1;33m\u001b[0m\u001b[1;33m\u001b[0m\u001b[0m\n",
      "\u001b[1;32m<__array_function__ internals>\u001b[0m in \u001b[0;36mhistogram\u001b[1;34m(*args, **kwargs)\u001b[0m\n",
      "\u001b[1;32mc:\\python3\\lib\\site-packages\\numpy\\lib\\histograms.py\u001b[0m in \u001b[0;36mhistogram\u001b[1;34m(a, bins, range, normed, weights, density)\u001b[0m\n\u001b[0;32m    790\u001b[0m     \u001b[0ma\u001b[0m\u001b[1;33m,\u001b[0m \u001b[0mweights\u001b[0m \u001b[1;33m=\u001b[0m \u001b[0m_ravel_and_check_weights\u001b[0m\u001b[1;33m(\u001b[0m\u001b[0ma\u001b[0m\u001b[1;33m,\u001b[0m \u001b[0mweights\u001b[0m\u001b[1;33m)\u001b[0m\u001b[1;33m\u001b[0m\u001b[1;33m\u001b[0m\u001b[0m\n\u001b[0;32m    791\u001b[0m \u001b[1;33m\u001b[0m\u001b[0m\n\u001b[1;32m--> 792\u001b[1;33m     \u001b[0mbin_edges\u001b[0m\u001b[1;33m,\u001b[0m \u001b[0muniform_bins\u001b[0m \u001b[1;33m=\u001b[0m \u001b[0m_get_bin_edges\u001b[0m\u001b[1;33m(\u001b[0m\u001b[0ma\u001b[0m\u001b[1;33m,\u001b[0m \u001b[0mbins\u001b[0m\u001b[1;33m,\u001b[0m \u001b[0mrange\u001b[0m\u001b[1;33m,\u001b[0m \u001b[0mweights\u001b[0m\u001b[1;33m)\u001b[0m\u001b[1;33m\u001b[0m\u001b[1;33m\u001b[0m\u001b[0m\n\u001b[0m\u001b[0;32m    793\u001b[0m \u001b[1;33m\u001b[0m\u001b[0m\n\u001b[0;32m    794\u001b[0m     \u001b[1;31m# Histogram is an integer or a float array depending on the weights.\u001b[0m\u001b[1;33m\u001b[0m\u001b[1;33m\u001b[0m\u001b[1;33m\u001b[0m\u001b[0m\n",
      "\u001b[1;32mc:\\python3\\lib\\site-packages\\numpy\\lib\\histograms.py\u001b[0m in \u001b[0;36m_get_bin_edges\u001b[1;34m(a, bins, range, weights)\u001b[0m\n\u001b[0;32m    424\u001b[0m             \u001b[1;32mraise\u001b[0m \u001b[0mValueError\u001b[0m\u001b[1;33m(\u001b[0m\u001b[1;34m'`bins` must be positive, when an integer'\u001b[0m\u001b[1;33m)\u001b[0m\u001b[1;33m\u001b[0m\u001b[1;33m\u001b[0m\u001b[0m\n\u001b[0;32m    425\u001b[0m \u001b[1;33m\u001b[0m\u001b[0m\n\u001b[1;32m--> 426\u001b[1;33m         \u001b[0mfirst_edge\u001b[0m\u001b[1;33m,\u001b[0m \u001b[0mlast_edge\u001b[0m \u001b[1;33m=\u001b[0m \u001b[0m_get_outer_edges\u001b[0m\u001b[1;33m(\u001b[0m\u001b[0ma\u001b[0m\u001b[1;33m,\u001b[0m \u001b[0mrange\u001b[0m\u001b[1;33m)\u001b[0m\u001b[1;33m\u001b[0m\u001b[1;33m\u001b[0m\u001b[0m\n\u001b[0m\u001b[0;32m    427\u001b[0m \u001b[1;33m\u001b[0m\u001b[0m\n\u001b[0;32m    428\u001b[0m     \u001b[1;32melif\u001b[0m \u001b[0mnp\u001b[0m\u001b[1;33m.\u001b[0m\u001b[0mndim\u001b[0m\u001b[1;33m(\u001b[0m\u001b[0mbins\u001b[0m\u001b[1;33m)\u001b[0m \u001b[1;33m==\u001b[0m \u001b[1;36m1\u001b[0m\u001b[1;33m:\u001b[0m\u001b[1;33m\u001b[0m\u001b[1;33m\u001b[0m\u001b[0m\n",
      "\u001b[1;32mc:\\python3\\lib\\site-packages\\numpy\\lib\\histograms.py\u001b[0m in \u001b[0;36m_get_outer_edges\u001b[1;34m(a, range)\u001b[0m\n\u001b[0;32m    313\u001b[0m                 'max must be larger than min in range parameter.')\n\u001b[0;32m    314\u001b[0m         \u001b[1;32mif\u001b[0m \u001b[1;32mnot\u001b[0m \u001b[1;33m(\u001b[0m\u001b[0mnp\u001b[0m\u001b[1;33m.\u001b[0m\u001b[0misfinite\u001b[0m\u001b[1;33m(\u001b[0m\u001b[0mfirst_edge\u001b[0m\u001b[1;33m)\u001b[0m \u001b[1;32mand\u001b[0m \u001b[0mnp\u001b[0m\u001b[1;33m.\u001b[0m\u001b[0misfinite\u001b[0m\u001b[1;33m(\u001b[0m\u001b[0mlast_edge\u001b[0m\u001b[1;33m)\u001b[0m\u001b[1;33m)\u001b[0m\u001b[1;33m:\u001b[0m\u001b[1;33m\u001b[0m\u001b[1;33m\u001b[0m\u001b[0m\n\u001b[1;32m--> 315\u001b[1;33m             raise ValueError(\n\u001b[0m\u001b[0;32m    316\u001b[0m                 \"supplied range of [{}, {}] is not finite\".format(first_edge, last_edge))\n\u001b[0;32m    317\u001b[0m     \u001b[1;32melif\u001b[0m \u001b[0ma\u001b[0m\u001b[1;33m.\u001b[0m\u001b[0msize\u001b[0m \u001b[1;33m==\u001b[0m \u001b[1;36m0\u001b[0m\u001b[1;33m:\u001b[0m\u001b[1;33m\u001b[0m\u001b[1;33m\u001b[0m\u001b[0m\n",
      "\u001b[1;31mValueError\u001b[0m: supplied range of [inf, inf] is not finite"
     ]
    },
    {
     "data": {
      "image/png": "[encoded data removed]",
      "text/plain": [
       "<Figure size 432x288 with 1 Axes>"
      ]
     },
     "metadata": {
      "needs_background": "light"
     },
     "output_type": "display_data"
    }
   ],
   "source": [
    "import numpy as np\n",
    "\n",
    "plt.close('all')\n",
    "unit_list = ['[GeV]', '[rad/3]', '[rad/3]', '[GeV]']\n",
    "variable_list = [ r'$E$', r'$p_T$', r'$\\eta$', r'$\\phi$',]\n",
    "line_style = ['--', '-']\n",
    "colors = ['orange', 'c']\n",
    "markers = ['*', 's']\n",
    "\n",
    "model.to('cpu')\n",
    "\n",
    "save = False # Option to save figure\n",
    "\n",
    "# Histograms\n",
    "idxs = (0, 1000)  # Choose events to compare\n",
    "data = torch.tensor(test[idxs[0]:idxs[1]].values, dtype=torch.float)\n",
    "pred = model(data)\n",
    "\n",
    "data_df = pd.DataFrame.from_records(data, columns=branches)\n",
    "pred_df = pd.DataFrame.from_records(pred, columns=branches)\n",
    "\n",
    "unnormalized_data_df = custom_unnormalize(data_df)\n",
    "unnormalized_pred_df = custom_unnormalize(pred_df)    \n",
    "    \n",
    "alph = 0.8\n",
    "n_bins = 200\n",
    "for kk in range(0, 4):\n",
    "    plt.figure()\n",
    "    n_hist_data, bin_edges, _ = plt.hist(data_df[branches[kk]], color=colors[1], label='Input', alpha=1, bins=n_bins)\n",
    "    n_hist_pred, _, _ = plt.hist(pred_df[branches[kk]], color=colors[0], label='Output', alpha=alph, bins=bin_edges)\n",
    "    plt.suptitle(test.columns[kk])\n",
    "    plt.xlabel(test.columns[kk])\n",
    "    plt.ylabel('Number of events')\n",
    "    # ms.sciy()\n",
    "    plt.yscale('log')\n",
    "    if save:\n",
    "        plt.savefig(os.path.join(save_dir,test.columns[kk]+'.png'))\n",
    "    plt.legend()"
   ]
  },
  {
   "cell_type": "code",
   "execution_count": 38,
   "metadata": {},
   "outputs": [],
   "source": [
    "def getRatio(bin1,bin2):\n",
    "    bins = []\n",
    "    for b1,b2 in zip(bin1,bin2):\n",
    "        if b1==0 and b2==0:\n",
    "            bins.append(0.)\n",
    "        elif b2==0:\n",
    "            bins.append(None)\n",
    "        else:\n",
    "            bins.append((float(b2)-float(b1))/b1)\n",
    "    return bins   \n",
    "\n",
    "rat = getRatio(n_hist_data,n_hist_pred)\n",
    "#print(rat)"
   ]
  },
  {
   "cell_type": "code",
   "execution_count": null,
   "metadata": {},
   "outputs": [],
   "source": []
  }
 ],
 "metadata": {
  "kernelspec": {
   "display_name": "Python 3",
   "language": "python",
   "name": "python3"
  },
  "language_info": {
   "codemirror_mode": {
    "name": "ipython",
    "version": 3
   },
   "file_extension": ".py",
   "mimetype": "text/x-python",
   "name": "python",
   "nbconvert_exporter": "python",
   "pygments_lexer": "ipython3",
   "version": "3.8.3"
  }
 },
 "nbformat": 4,
 "nbformat_minor": 4
}
